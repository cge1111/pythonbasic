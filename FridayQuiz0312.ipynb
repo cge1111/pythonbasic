{
 "cells": [
  {
   "cell_type": "code",
   "execution_count": 16,
   "metadata": {},
   "outputs": [
    {
     "name": "stdout",
     "output_type": "stream",
     "text": [
      "5 명\n"
     ]
    }
   ],
   "source": [
    "# 47. 중복데이터 삭제하여 실제 접수 명단이 몇몀인지 : set집합, len\n",
    "\n",
    "people = [\n",
    "        ('이호준','01050442903'),\n",
    "        ('이호상','01051442904'),\n",
    "        ('이준호','01050342904'),\n",
    "        ('이준','01050412904'),\n",
    "        ('이호','01050443904'),\n",
    "        ('이호준','01050442903')\n",
    "        ]\n",
    "\n",
    "print(len(set(people)),'명')"
   ]
  },
  {
   "cell_type": "code",
   "execution_count": 1,
   "metadata": {},
   "outputs": [
    {
     "name": "stdout",
     "output_type": "stream",
     "text": [
      "AAABBBcccddd\n"
     ]
    },
    {
     "data": {
      "text/plain": [
       "'aaabbbCCCDDD'"
      ]
     },
     "execution_count": 1,
     "metadata": {},
     "output_type": "execute_result"
    }
   ],
   "source": [
    "# 48. 문자열이 주어지면 대문자와 소문자를 바꿔서 출력하는 프로그램을 작성하시오. :swapcase\n",
    "\n",
    "a=input() # 문자입력\n",
    "\n",
    "a.swapcase() # 대소문자 변환"
   ]
  },
  {
   "cell_type": "code",
   "execution_count": 13,
   "metadata": {},
   "outputs": [
    {
     "name": "stdout",
     "output_type": "stream",
     "text": [
      "10 9 8 7 6 5 4 3 2 1\n"
     ]
    },
    {
     "data": {
      "text/plain": [
       "10"
      ]
     },
     "execution_count": 13,
     "metadata": {},
     "output_type": "execute_result"
    }
   ],
   "source": [
    "# 49. 순서가 없는 10개의 숫자가 공백으로 구분되어 주어진다. 주어진 숫자들 중 최대값을 반환하라. list, map,int, input, split, sorted, index=a[0]\n",
    "\n",
    "## 중요!! num=list(map(int, input().split(' '))) # 입력된 값을 리스트 안에 정수로 저장\n",
    "#  num.sort()\n",
    "#  print(num[-1])\n",
    "\n",
    "a = input().split() # 공백을 기준으로 입력\n",
    "\n",
    "a = list(map(int, a)) # 입력받은 수로 리스트 만들기 map: (함수, 반복가능한 자료형)->결과를 묶어서 돌려주는 함수\n",
    "\n",
    "a.sort(reverse=True) #내림차순으로 정렬\n",
    "a[0] # 첫번째 수 인덱스로 출력"
   ]
  },
  {
   "cell_type": "code",
   "execution_count": 20,
   "metadata": {},
   "outputs": [
    {
     "name": "stdout",
     "output_type": "stream",
     "text": [
      "번호: 1, 이름: 강은지\n",
      "번호: 2, 이름: 강채연\n",
      "번호: 3, 이름: 권윤일\n",
      "번호: 4, 이름: 김민호\n",
      "번호: 5, 이름: 김유정\n",
      "번호: 6, 이름: 김진이\n",
      "번호: 7, 이름: 김채리\n",
      "번호: 8, 이름: 박지호\n",
      "번호: 9, 이름: 박현서\n",
      "번호: 10, 이름: 최성훈\n",
      "번호: 11, 이름: 한지호\n",
      "번호: 12, 이름: 홍유진\n"
     ]
    }
   ],
   "source": [
    "# 50. 이름을 가나다 순서대로 배정하고 번호를 매김\n",
    "\n",
    "student = ['강은지','김유정','박현서','최성훈','홍유진','박지호','권윤일','김채리','한지호','김진이','김민호','강채연']\n",
    "student.sort()  # 정열\n",
    "for i in range(len(student)): # for문 사용\n",
    "    print('번호: {0}, 이름: {1}'.format(i+1,student[i]))  # i+1로 번호를 나타내고 정렬된 사람 이름 출력\n",
    "\n",
    "\n",
    "# [풀이2]\n",
    "# student = ['강은지','김유정','박현서','최성훈','홍유진','박지호','권윤일','김채리','한지호','김진이','김민호','강채연']\n",
    "# student.sort() # 정렬\n",
    "# for idx, name in enumerate(student): # idx에 index, name에 이름을 받는다.\n",
    "#     print('번호: {0}, 이름: {1}'.format(idx+1,name)) # idx+1로 번호를 나타내고 name에 정렬된 사람 이름 출력"
   ]
  },
  {
   "cell_type": "code",
   "execution_count": 25,
   "metadata": {},
   "outputs": [
    {
     "name": "stdout",
     "output_type": "stream",
     "text": [
      "20190923"
     ]
    }
   ],
   "source": [
    "# 51. 20190923 출력 : 아스키, ord\n",
    "\n",
    "# 코드 내 숫자x\n",
    "# 파일 이름이나 경로 사용x\n",
    "# 시간, 날짜 함수 사용x\n",
    "# 에러 번호 출력 이용x\n",
    "# input 이용x\n",
    "\n",
    "str = 'aacdddddddddfff'\n",
    "\n",
    "print(str.count('a'), end='')\n",
    "print(str.count('b'), end='')\n",
    "print(str.count('c'), end='')\n",
    "print(str.count('d'), end='')\n",
    "print(str.count('b'), end='')\n",
    "print(str.count('d'), end='')\n",
    "print(str.count('a'), end='')\n",
    "print(str.count('f'), end='')"
   ]
  },
  {
   "cell_type": "code",
   "execution_count": 30,
   "metadata": {},
   "outputs": [
    {
     "name": "stdout",
     "output_type": "stream",
     "text": [
      "복잡한 세상 편하게 살자\n",
      "복세편살\n"
     ]
    }
   ],
   "source": [
    "# 63. 줄임말 \n",
    "\n",
    "a=input().split(' ') # 입력받아 띄어쓰기 기준으로 자른다. \n",
    "out='' # out 문자열 지정\n",
    "\n",
    "for i in a: # i 길이까지 for문 돌림\n",
    "  out += i[0] # 앞 글자만 뽑자\n",
    "\n",
    "print(out) # 결과 출력\n",
    "\n",
    "# a=input().split(' ') # 입력받아 띄어쓰기 기준으로 자른다. \n",
    "# for i in a: # 문자열 길이 만큼 반복\n",
    "#     print(i[0],end='') 첫째자리만 뽑아내기, 띄어쓰기 없음"
   ]
  },
  {
   "cell_type": "code",
   "execution_count": 40,
   "metadata": {},
   "outputs": [
    {
     "name": "stdout",
     "output_type": "stream",
     "text": [
      "504\n",
      "3자리수\n"
     ]
    }
   ],
   "source": [
    "# 양의 정수만 입력받고 그 수의 자릿수를 출력해보자.\n",
    "\n",
    "print('%s자리수' %len(input())) # 자리수를 구한다.\n",
    "\n",
    "# a = len(input())\n",
    "# print('{0} 자리수'.format(a))\n",
    "\n",
    "# print(f\"{len(input())}자리수\")"
   ]
  },
  {
   "cell_type": "code",
   "execution_count": 41,
   "metadata": {},
   "outputs": [
    {
     "name": "stdout",
     "output_type": "stream",
     "text": [
      "공백을 제외한 글자수만을 세는 코드 테스트\n",
      "6\n",
      "6\n"
     ]
    }
   ],
   "source": [
    "# 글자 수 출력 응용 : 줄 바꿈과 공백을 제외한 글자수 만을 리턴 \n",
    "\n",
    "a = input()\n",
    "print(len(a))\n",
    "print(len(a) - a.count(' '))\n",
    "\n",
    "# a = input()\n",
    "# print(len(a.replace(' ','')))\n",
    "\n",
    "# a = input().split()\n",
    "# b = 0\n",
    "# for i in a:\n",
    "#   b += len(i)\n",
    "# print(b)"
   ]
  },
  {
   "cell_type": "code",
   "execution_count": null,
   "metadata": {},
   "outputs": [],
   "source": []
  }
 ],
 "metadata": {
  "kernelspec": {
   "display_name": "Python 3",
   "language": "python",
   "name": "python3"
  },
  "language_info": {
   "codemirror_mode": {
    "name": "ipython",
    "version": 3
   },
   "file_extension": ".py",
   "mimetype": "text/x-python",
   "name": "python",
   "nbconvert_exporter": "python",
   "pygments_lexer": "ipython3",
   "version": "3.8.5"
  }
 },
 "nbformat": 4,
 "nbformat_minor": 4
}

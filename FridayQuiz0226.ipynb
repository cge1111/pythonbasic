{
  "nbformat": 4,
  "nbformat_minor": 0,
  "metadata": {
    "colab": {
      "name": "FridayQuiz0226.ipynb",
      "provenance": [],
      "authorship_tag": "ABX9TyM/dVcfyyc9izg3wS6EPut7",
      "include_colab_link": true
    },
    "kernelspec": {
      "name": "python3",
      "display_name": "Python 3"
    }
  },
  "cells": [
    {
      "cell_type": "markdown",
      "metadata": {
        "id": "view-in-github",
        "colab_type": "text"
      },
      "source": [
        "<a href=\"https://colab.research.google.com/github/cge1111/pythonbasic/blob/main/FridayQuiz0226.ipynb\" target=\"_parent\"><img src=\"https://colab.research.google.com/assets/colab-badge.svg\" alt=\"Open In Colab\"/></a>"
      ]
    },
    {
      "cell_type": "code",
      "metadata": {
        "colab": {
          "base_uri": "https://localhost:8080/"
        },
        "id": "Kz8KFnD18nZu",
        "outputId": "ae301591-f34f-489f-b67d-c5e6da5e8aa2"
      },
      "source": [
        "# 27번 딕셔너리 만들기\r\n",
        "\r\n",
        "key = input().split()\r\n",
        "value = map(int, input().split()) # 숫자로 바꿈\r\n",
        "\r\n",
        "print(dict(zip(key,value)))"
      ],
      "execution_count": 2,
      "outputs": [
        {
          "output_type": "stream",
          "text": [
            "Yujin Hyewon\n",
            "70 100\n",
            "{'Yujin': 70, 'Hyewon': 100}\n"
          ],
          "name": "stdout"
        }
      ]
    },
    {
      "cell_type": "code",
      "metadata": {
        "colab": {
          "base_uri": "https://localhost:8080/"
        },
        "id": "CdGB9hWq8-1N",
        "outputId": "6244c405-9277-4b19-93c0-f377ce9792da"
      },
      "source": [
        "# 28번 2-gram\r\n",
        "txt = input()  #python 6글자\r\n",
        "for i in range(len(txt)-1):  # 6  = 0,1,2,3,4,5\r\n",
        "\r\n",
        "  print(txt[i],txt[i+1],sep='')"
      ],
      "execution_count": 6,
      "outputs": [
        {
          "output_type": "stream",
          "text": [
            "python\n",
            "py\n",
            "yt\n",
            "th\n",
            "ho\n",
            "on\n"
          ],
          "name": "stdout"
        }
      ]
    },
    {
      "cell_type": "code",
      "metadata": {
        "colab": {
          "base_uri": "https://localhost:8080/"
        },
        "id": "mxOh6tYVBglx",
        "outputId": "d1d7d7f6-5ced-4165-e967-7d5d2403f240"
      },
      "source": [
        "# 29번 대문자만 지나가세요 \r\n",
        "# isupper or islower (대문자 인지 소문자인지 확인)\r\n",
        "# ord 함수: ascii 코드 값을 확인 (대,소문자를 숫자로 변환)\r\n",
        "# chr 함수: ord 함수와 반대\r\n",
        "# isdigit 숫자인지 확인\r\n",
        "\r\n",
        "# 풀이 1 [isupper 활용]\r\n",
        "a = input()\r\n",
        "if a.isupper():\r\n",
        "  print('YES')\r\n",
        "else:\r\n",
        "  print('No')\r\n",
        "\r\n",
        "# 풀이 2 [ord 활용]\r\n",
        "alpha = input()\r\n",
        "if ord(alpha) >= 65 and ord(alpha) <= 90:  # a의 아스키 코드 값이 나옴\r\n",
        "  print('YES')\r\n",
        "else:\r\n",
        "  print('NO')"
      ],
      "execution_count": 10,
      "outputs": [
        {
          "output_type": "stream",
          "text": [
            "b\n",
            "No\n"
          ],
          "name": "stdout"
        }
      ]
    },
    {
      "cell_type": "code",
      "metadata": {
        "colab": {
          "base_uri": "https://localhost:8080/"
        },
        "id": "vkX4QpH9GH0k",
        "outputId": "2ab52044-1367-4412-cc6f-56d661a40969"
      },
      "source": [
        "# 30번 문자열 속 문자 찾기 !!!중요!!! \r\n",
        "# index 함수: 찾는 값이 없을경우 error 위치 변환\r\n",
        "# find 함수: 찾는 값이 없을경우 -1 출력\r\n",
        "a='pineapple is yummy'\r\n",
        "print(a.find('apple'))"
      ],
      "execution_count": 15,
      "outputs": [
        {
          "output_type": "stream",
          "text": [
            "4\n"
          ],
          "name": "stdout"
        }
      ]
    },
    {
      "cell_type": "code",
      "metadata": {
        "id": "svhxPu6VI8RY"
      },
      "source": [
        "# 31번 객관식 파이썬 자료형의 복잡도 : O(1)[빅O 표기법->알고리즘]\r\n",
        "# ③ 이외에 한번에 끝나지만 ~에서~ 끝나기 때문에 3번이 답"
      ],
      "execution_count": null,
      "outputs": []
    },
    {
      "cell_type": "code",
      "metadata": {
        "colab": {
          "base_uri": "https://localhost:8080/"
        },
        "id": "Vs1Iak62QTCE",
        "outputId": "7224a3d1-edd1-462a-e566-424629ed0aab"
      },
      "source": [
        "# 32번 문자열 만들기\r\n",
        "# len, split\r\n",
        "\r\n",
        "# txt = input().split()\r\n",
        "# print(len(txt))\r\n",
        "\r\n",
        "txt=input()\r\n",
        "a=list(txt.split())\r\n",
        "print(len(a))\r\n",
        "\r\n",
        "# txt=\" 빅데이터 \"\r\n",
        "# print(txt.strip()) # 앞, 뒤 공백지우기"
      ],
      "execution_count": 27,
      "outputs": [
        {
          "output_type": "stream",
          "text": [
            "저 넓은 세상을 네 눈앞에 그려봐 네 진심을 느껴봐\n",
            "9\n"
          ],
          "name": "stdout"
        }
      ]
    },
    {
      "cell_type": "code",
      "metadata": {
        "colab": {
          "base_uri": "https://localhost:8080/"
        },
        "id": "P7vwbuQGT9PF",
        "outputId": "8ea1392a-9392-4883-80cf-487cd021f916"
      },
      "source": [
        "# 33번 거꾸로 출력하기\r\n",
        "# for문 리스트 축약\r\n",
        "\r\n",
        "txt = input()\r\n",
        "txt2 = list(txt.split()) # 받은 값들을 잘라 리스트로 만든다 (문자)\r\n",
        "txt3 = [int(i)for i in txt2]  # 문자->숫자로 바꾸어준다.\r\n",
        "\r\n",
        "for i in range(len(txt3)-1,-1,-1):\r\n",
        "  print(txt3[i], end=' ')\r\n",
        "\r\n",
        "# 풀이 2 : pop사용\r\n",
        "# a=list(input().split())\r\n",
        "# for i in range(0, len(a)): # range함수 안에 len을 넣으면 for ~ range(n):과 같다\r\n",
        "#   print(a.pop(),end=' ')"
      ],
      "execution_count": 50,
      "outputs": [
        {
          "output_type": "stream",
          "text": [
            "1 2 3 4 5\n",
            "5 4 3 2 1 "
          ],
          "name": "stdout"
        }
      ]
    },
    {
      "cell_type": "code",
      "metadata": {
        "colab": {
          "base_uri": "https://localhost:8080/"
        },
        "id": "n4bT6Cw5U1E7",
        "outputId": "340e1352-b776-4bbf-83f9-0e4ca39bed8e"
      },
      "source": [
        "# 34번 sort구현하기\r\n",
        "# <list>.sort()를 사용하면 원본 리스트 자체의 순서를 변화시킨다.\r\n",
        "# sorted(<list)>를 사용하면 정렬된 새로운 리스틀 반환 받는다.\r\n",
        "# <list>.sort는 새로운 복사본을 만들지 않기 때문에 sorted(<list>) 보다 빠르다.\r\n",
        "\r\n",
        "num1 = input()\r\n",
        "num2 = num1.strip().split() # 리스트로 정렬\r\n",
        "num3 = [int(i) for i in num2] # 숫자로 바꿈 , print(num3) \r\n",
        "\r\n",
        "if num3 != sorted(num3):\r\n",
        "  print('NO')\r\n",
        "else:\r\n",
        "  print('YES')\r\n",
        "\r\n"
      ],
      "execution_count": 52,
      "outputs": [
        {
          "output_type": "stream",
          "text": [
            "1 2 3 4 5\n",
            "YES\n"
          ],
          "name": "stdout"
        }
      ]
    },
    {
      "cell_type": "code",
      "metadata": {
        "colab": {
          "base_uri": "https://localhost:8080/"
        },
        "id": "l0Lpt2AnixKN",
        "outputId": "0b8071d5-ddbb-480f-94b8-7e1f54df5a87"
      },
      "source": [
        "# 36번 구구단 출력하기 (35생략)\r\n",
        "num=int(input())\r\n",
        "\r\n",
        "for n in range(1,10):\r\n",
        "    print(num*n,end=' ')\r\n"
      ],
      "execution_count": 64,
      "outputs": [
        {
          "output_type": "stream",
          "text": [
            "2\n",
            "2 4 6 8 10 12 14 16 18 "
          ],
          "name": "stdout"
        }
      ]
    },
    {
      "cell_type": "code",
      "metadata": {
        "colab": {
          "base_uri": "https://localhost:8080/"
        },
        "id": "bFwT82zv0jzO",
        "outputId": "9371ba76-f3f1-48c0-bdbe-6061307ce20c"
      },
      "source": [
        "# 37번 count 사용하기\r\n",
        "# count 함수\r\n",
        "# 기본 문법 ; 변수.count(찾는값)\r\n",
        "\r\n",
        "a=input().split()\r\n",
        "b=list(set(a)) # 중복 제거를 위해 세트화하여 별도의 리스트\r\n",
        "\r\n",
        "max=0 # 선별을 위한 구분자 (임시 변수=0)\r\n",
        "\r\n",
        "for i in  range(len(b)): # 0,1,2... print(\"현재\":%d %max_men), print(\"%d\" %a.count(b[i]))\r\n",
        "  if a.count(b[i]) > a.count(b[max]):\r\n",
        "    max = i # 최댓값을 계속 찾음 print(\"%d로 변경되었습니다. \\n\" % max_men)\r\n",
        "\r\n",
        "# 채연의 개수 2 > 채연의 개수 2\r\n",
        "# 은비의 개수 4 > 채연의 개수 2 ,max=1\r\n",
        "# 원영의 개수 2 > 은비의 개수 4, max=1\r\n",
        "\r\n",
        "print('%s(이)가 총 %d로 반장이 되었습니다.'%(b[max],a.count(b[max])))\r\n",
        "\r\n",
        "# print(a)['원영', '원영', '은비', '은비', '은비', '은비', '채연', '채연']\r\n",
        "# print(b) ['채연', '은비', '원영']\r\n",
        "\r\n"
      ],
      "execution_count": 2,
      "outputs": [
        {
          "output_type": "stream",
          "text": [
            "원영 원영 은비 은비 은비 은비 채연 채연\n",
            "은비(이)가 총 4로 반장이 되었습니다.\n"
          ],
          "name": "stdout"
        }
      ]
    },
    {
      "cell_type": "code",
      "metadata": {
        "colab": {
          "base_uri": "https://localhost:8080/"
        },
        "id": "rTuD__Q7_0Y9",
        "outputId": "57b3d776-3012-4214-d6b6-2df93a56cfc7"
      },
      "source": [
        "# 38번 오타 수정하기 replace 함수\r\n",
        "a=input()\r\n",
        "print(a.replace('q','e'))"
      ],
      "execution_count": 3,
      "outputs": [
        {
          "output_type": "stream",
          "text": [
            "qqqq ejfifiq eeee qqqqq\n",
            "eeee ejfifie eeee eeeee\n"
          ],
          "name": "stdout"
        }
      ]
    },
    {
      "cell_type": "code",
      "metadata": {
        "colab": {
          "base_uri": "https://localhost:8080/"
        },
        "id": "kl59QT5d-FZH",
        "outputId": "44959e07-3f58-47ea-938c-8fd8d12fe6b1"
      },
      "source": [
        "# 41번 소수판별\r\n",
        "\r\n",
        "a=int(input()) # 숫자를 입력 받는다. # 11\r\n",
        "result=0 # result 변수를 초기화\r\n",
        "\r\n",
        "for i in range(1, a+1):  # 반복문 (그 수까지)\r\n",
        "  if a % i == 0:  # 조건 입력받은 수를 그 수 앞에 모든 수로 나눈 나머지 값이 0이면\r\n",
        "    result += 1   # result값을 하나씩 증가\r\n",
        "\r\n",
        "if result == 2: # result 값이 2면 \r\n",
        "  print('YES')\r\n",
        "\r\n",
        "else:\r\n",
        "  print('NO')"
      ],
      "execution_count": 6,
      "outputs": [
        {
          "output_type": "stream",
          "text": [
            "7\n",
            "YES\n"
          ],
          "name": "stdout"
        }
      ]
    },
    {
      "cell_type": "code",
      "metadata": {
        "colab": {
          "base_uri": "https://localhost:8080/"
        },
        "id": "3ArgTtl2LJEm",
        "outputId": "5a3edf0b-5444-4526-ed65-b1d1a0521139"
      },
      "source": [
        "# 44번 각 자리수의 합\r\n",
        "\r\n",
        "num=input()\r\n",
        "print(sum(map(int,num)))\r\n",
        "\r\n",
        "# 풀이 2: 정석\r\n",
        "\r\n",
        "# n = list(map(int,input())) # 숫자로 입력받기\r\n",
        "# sum=0  \r\n",
        "# for i in n: # 반복문: 입력 받은 숫자를 하나씩\r\n",
        "#   sum +=  1 # 누적합계 구하기\r\n",
        "# print(sum) # 합계 출력\r\n",
        "\r\n",
        "# 풀이 3 for문에서 input입력해버리자\r\n",
        "\r\n",
        "# sum=0\r\n",
        "# for i in input():\r\n",
        "#   sum += int(i)\r\n",
        "\r\n",
        "# print(sum)"
      ],
      "execution_count": 2,
      "outputs": [
        {
          "output_type": "stream",
          "text": [
            "123\n",
            "6\n"
          ],
          "name": "stdout"
        }
      ]
    },
    {
      "cell_type": "code",
      "metadata": {
        "colab": {
          "base_uri": "https://localhost:8080/"
        },
        "id": "18dpT-8bSbFo",
        "outputId": "4ab57c9d-e6dc-4a73-aa28-12be23565b83"
      },
      "source": [
        "# 46번 str 자료형의 응용 !!(문제 변경): 임의수를 입력 받아서 계산하기 !!\r\n",
        "\r\n",
        "a=input()\r\n",
        "sum=0\r\n",
        "for i in list(a): \r\n",
        "  for j in str(i):  # 11->1,1로 분리해줌\r\n",
        "    sum +=int(j)\r\n",
        "print(sum)\r\n",
        "\r\n",
        "# sum = 0\r\n",
        "# for i in list(range(21)):\r\n",
        "#   print(i)\r\n",
        "#   for j in str(i):\r\n",
        "#     print(j)\r\n",
        "#     sum += int(j)\r\n",
        "#     print(sum)\r\n",
        "# print(sum)\r\n",
        "\r\n",
        "\r\n"
      ],
      "execution_count": 25,
      "outputs": [
        {
          "output_type": "stream",
          "text": [
            "124667\n",
            "26\n"
          ],
          "name": "stdout"
        }
      ]
    },
    {
      "cell_type": "code",
      "metadata": {
        "id": "Ods7ZM_8XALh"
      },
      "source": [
        ""
      ],
      "execution_count": 25,
      "outputs": []
    }
  ]
}
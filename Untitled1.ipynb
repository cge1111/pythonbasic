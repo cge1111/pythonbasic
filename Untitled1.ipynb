{
  "nbformat": 4,
  "nbformat_minor": 0,
  "metadata": {
    "colab": {
      "name": "Untitled1.ipynb",
      "provenance": [],
      "authorship_tag": "ABX9TyOpoFhw4OH6JopUyizdo50V",
      "include_colab_link": true
    },
    "kernelspec": {
      "name": "python3",
      "display_name": "Python 3"
    }
  },
  "cells": [
    {
      "cell_type": "markdown",
      "metadata": {
        "id": "view-in-github",
        "colab_type": "text"
      },
      "source": [
        "<a href=\"https://colab.research.google.com/github/cge1111/pythonbasic/blob/main/Untitled1.ipynb\" target=\"_parent\"><img src=\"https://colab.research.google.com/assets/colab-badge.svg\" alt=\"Open In Colab\"/></a>"
      ]
    },
    {
      "cell_type": "code",
      "metadata": {
        "colab": {
          "base_uri": "https://localhost:8080/"
        },
        "id": "4HJP-yUtJKFI",
        "outputId": "0f703553-006e-4c99-99da-f0b54ad77957"
      },
      "source": [
        "nums = [100,200,300,400,500]\r\n",
        "del (nums[3:])\r\n",
        "print(nums)"
      ],
      "execution_count": 5,
      "outputs": [
        {
          "output_type": "stream",
          "text": [
            "[100, 200, 300]\n"
          ],
          "name": "stdout"
        }
      ]
    },
    {
      "cell_type": "code",
      "metadata": {
        "colab": {
          "base_uri": "https://localhost:8080/"
        },
        "id": "GHvQd2LzKyf4",
        "outputId": "72195a4b-d836-4cfd-8f0d-307a008615e3"
      },
      "source": [
        "num = [100,200,300,400,500]\r\n",
        "num[:3]"
      ],
      "execution_count": 9,
      "outputs": [
        {
          "output_type": "execute_result",
          "data": {
            "text/plain": [
              "[100, 200, 300]"
            ]
          },
          "metadata": {
            "tags": []
          },
          "execution_count": 9
        }
      ]
    },
    {
      "cell_type": "code",
      "metadata": {
        "colab": {
          "base_uri": "https://localhost:8080/"
        },
        "id": "_Pb6VdNeL0YM",
        "outputId": "8205612a-55f6-470b-d6de-b633a271e6dc"
      },
      "source": [
        "nums = [100,200,300,400,500]\r\n",
        "nums.pop()\r\n",
        "nums.pop()"
      ],
      "execution_count": 13,
      "outputs": [
        {
          "output_type": "execute_result",
          "data": {
            "text/plain": [
              "400"
            ]
          },
          "metadata": {
            "tags": []
          },
          "execution_count": 13
        }
      ]
    },
    {
      "cell_type": "code",
      "metadata": {
        "colab": {
          "base_uri": "https://localhost:8080/"
        },
        "id": "xWbvm-TlMZlg",
        "outputId": "58385222-19ef-4df7-a8cb-5ae4414c9157"
      },
      "source": [
        "print(nums)"
      ],
      "execution_count": 14,
      "outputs": [
        {
          "output_type": "stream",
          "text": [
            "[100, 200, 300]\n"
          ],
          "name": "stdout"
        }
      ]
    },
    {
      "cell_type": "code",
      "metadata": {
        "id": "yuBw12reMiT_"
      },
      "source": [
        "# nums = [100,200,300,400,500]\r\n",
        "# del nums[3] [100,200,300,500]\r\n",
        "# del nums[4] 4가 없어짐"
      ],
      "execution_count": 15,
      "outputs": []
    },
    {
      "cell_type": "code",
      "metadata": {
        "id": "XNKhyya0NX-0"
      },
      "source": [
        "i= [200,100,300]\r\n",
        "i.insert(2,10000)"
      ],
      "execution_count": 23,
      "outputs": []
    },
    {
      "cell_type": "code",
      "metadata": {
        "colab": {
          "base_uri": "https://localhost:8080/"
        },
        "id": "YKs46uRiNu7v",
        "outputId": "81ff09fb-62d8-49db-b024-b10768cfc5c8"
      },
      "source": [
        "print(i)"
      ],
      "execution_count": 24,
      "outputs": [
        {
          "output_type": "stream",
          "text": [
            "[200, 100, 10000, 300]\n"
          ],
          "name": "stdout"
        }
      ]
    },
    {
      "cell_type": "code",
      "metadata": {
        "colab": {
          "base_uri": "https://localhost:8080/"
        },
        "id": "gwBWcAUFOHvo",
        "outputId": "93648181-16ef-43b5-f251-5f8b17243080"
      },
      "source": [
        "i=[100,200,300]\r\n",
        "print(type(1))"
      ],
      "execution_count": 27,
      "outputs": [
        {
          "output_type": "stream",
          "text": [
            "<class 'int'>\n"
          ],
          "name": "stdout"
        }
      ]
    },
    {
      "cell_type": "code",
      "metadata": {
        "colab": {
          "base_uri": "https://localhost:8080/"
        },
        "id": "Q-kwHlLxOk4V",
        "outputId": "a9c9d634-7209-42b3-98a0-9a364008b970"
      },
      "source": [
        "n = int(input('몇단짜리 크리스마스 트리를 만들까요? :'))\r\n",
        "for i in range(1,n+1):   #n=5라고 가정\r\n",
        "    print(\" \" * (n-i) + \"*\" * (2*i-1))  #홀수공식(2n-1)\r\n",
        " "
      ],
      "execution_count": 42,
      "outputs": [
        {
          "output_type": "stream",
          "text": [
            "몇단짜리 크리스마스 트리를 만들까요? :6\n",
            "     *\n",
            "    ***\n",
            "   *****\n",
            "  *******\n",
            " *********\n",
            "***********\n"
          ],
          "name": "stdout"
        }
      ]
    },
    {
      "cell_type": "code",
      "metadata": {
        "id": "8VpbTQ7OOl3c"
      },
      "source": [
        "#11번"
      ],
      "execution_count": 43,
      "outputs": []
    },
    {
      "cell_type": "code",
      "metadata": {
        "colab": {
          "base_uri": "https://localhost:8080/"
        },
        "id": "cLbW0_hQyiVC",
        "outputId": "9a1e3af0-cacd-43f1-9b3e-f2a7d2c23787"
      },
      "source": [
        "s = 0\r\n",
        "for i in range(1,101):\r\n",
        "   s += i\r\n",
        "\r\n",
        "print(s)"
      ],
      "execution_count": 55,
      "outputs": [
        {
          "output_type": "stream",
          "text": [
            "5050\n"
          ],
          "name": "stdout"
        }
      ]
    },
    {
      "cell_type": "code",
      "metadata": {
        "colab": {
          "base_uri": "https://localhost:8080/"
        },
        "id": "5VqyRBYRylCL",
        "outputId": "c732b5bc-2c33-4f17-d706-f8ce14c6a4ac"
      },
      "source": [
        "class Wizard:\r\n",
        "    def __init__(self,health,mana,armor):\r\n",
        "        self.health = health\r\n",
        "        self.mana = mana\r\n",
        "        self.armor = armor\r\n",
        "    def attack(self):\r\n",
        "      print(\"파이어볼\")\r\n",
        "\r\n",
        "x = Wizard(health = 545, mana = 210, armor = 10)\r\n",
        "print(x.health, x. mana, x.armor)\r\n",
        "x.attack()"
      ],
      "execution_count": 57,
      "outputs": [
        {
          "output_type": "stream",
          "text": [
            "545 210 10\n",
            "파이어볼\n"
          ],
          "name": "stdout"
        }
      ]
    },
    {
      "cell_type": "code",
      "metadata": {
        "colab": {
          "base_uri": "https://localhost:8080/"
        },
        "id": "JM6vur5K8QSx",
        "outputId": "48f1bc10-628e-4853-85bc-7a42fb756547"
      },
      "source": [
        "planets = ['수성','금성','지구','화성','목성','토성','천왕성','해왕성']\r\n",
        "n = int(input('몇번째 행성이름을 알고 싶은신가요? :'))\r\n",
        "print(planets[n-1])"
      ],
      "execution_count": 58,
      "outputs": [
        {
          "output_type": "stream",
          "text": [
            "몇번째 행성이름을 알고 싶은신가요? :3\n",
            "지구\n"
          ],
          "name": "stdout"
        }
      ]
    },
    {
      "cell_type": "code",
      "metadata": {
        "colab": {
          "base_uri": "https://localhost:8080/"
        },
        "id": "FSoBxEZOAqKJ",
        "outputId": "024a2d13-4064-4b25-8db7-abc5601644c1"
      },
      "source": [
        "#12번 게임 캐릭터 클래스 만들기\r\n",
        "class Wizard:\r\n",
        "    def __init__(self,health,mana,armor): #생성자를 생성하여 객체안에 집어 넣는다\r\n",
        "        self.health = health\r\n",
        "        self.mana = mana\r\n",
        "        self.armor = armor\r\n",
        "    def attack(self):\r\n",
        "      print(\"파이어볼\")\r\n",
        "\r\n",
        "x = Wizard(health = 545, mana = 210, armor = 10)\r\n",
        "print(x.health, x. mana, x.armor)\r\n",
        "x.attack()"
      ],
      "execution_count": 59,
      "outputs": [
        {
          "output_type": "stream",
          "text": [
            "545 210 10\n",
            "파이어볼\n"
          ],
          "name": "stdout"
        }
      ]
    }
  ]
}
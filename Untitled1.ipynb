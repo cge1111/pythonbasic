{
  "nbformat": 4,
  "nbformat_minor": 0,
  "metadata": {
    "colab": {
      "name": "Untitled1.ipynb",
      "provenance": [],
      "authorship_tag": "ABX9TyM/JkOVwQbOTSWVUMago54m",
      "include_colab_link": true
    },
    "kernelspec": {
      "name": "python3",
      "display_name": "Python 3"
    }
  },
  "cells": [
    {
      "cell_type": "markdown",
      "metadata": {
        "id": "view-in-github",
        "colab_type": "text"
      },
      "source": [
        "<a href=\"https://colab.research.google.com/github/cge1111/pythonbasic/blob/main/Untitled1.ipynb\" target=\"_parent\"><img src=\"https://colab.research.google.com/assets/colab-badge.svg\" alt=\"Open In Colab\"/></a>"
      ]
    },
    {
      "cell_type": "code",
      "metadata": {
        "colab": {
          "base_uri": "https://localhost:8080/"
        },
        "id": "4HJP-yUtJKFI",
        "outputId": "0f703553-006e-4c99-99da-f0b54ad77957"
      },
      "source": [
        "nums = [100,200,300,400,500]\r\n",
        "del (nums[3:])\r\n",
        "print(nums)"
      ],
      "execution_count": 5,
      "outputs": [
        {
          "output_type": "stream",
          "text": [
            "[100, 200, 300]\n"
          ],
          "name": "stdout"
        }
      ]
    },
    {
      "cell_type": "code",
      "metadata": {
        "colab": {
          "base_uri": "https://localhost:8080/"
        },
        "id": "GHvQd2LzKyf4",
        "outputId": "72195a4b-d836-4cfd-8f0d-307a008615e3"
      },
      "source": [
        "num = [100,200,300,400,500]\r\n",
        "num[:3]"
      ],
      "execution_count": 9,
      "outputs": [
        {
          "output_type": "execute_result",
          "data": {
            "text/plain": [
              "[100, 200, 300]"
            ]
          },
          "metadata": {
            "tags": []
          },
          "execution_count": 9
        }
      ]
    },
    {
      "cell_type": "code",
      "metadata": {
        "colab": {
          "base_uri": "https://localhost:8080/"
        },
        "id": "_Pb6VdNeL0YM",
        "outputId": "8205612a-55f6-470b-d6de-b633a271e6dc"
      },
      "source": [
        "nums = [100,200,300,400,500]\r\n",
        "nums.pop()\r\n",
        "nums.pop()"
      ],
      "execution_count": 13,
      "outputs": [
        {
          "output_type": "execute_result",
          "data": {
            "text/plain": [
              "400"
            ]
          },
          "metadata": {
            "tags": []
          },
          "execution_count": 13
        }
      ]
    },
    {
      "cell_type": "code",
      "metadata": {
        "colab": {
          "base_uri": "https://localhost:8080/"
        },
        "id": "xWbvm-TlMZlg",
        "outputId": "58385222-19ef-4df7-a8cb-5ae4414c9157"
      },
      "source": [
        "print(nums)"
      ],
      "execution_count": 14,
      "outputs": [
        {
          "output_type": "stream",
          "text": [
            "[100, 200, 300]\n"
          ],
          "name": "stdout"
        }
      ]
    },
    {
      "cell_type": "code",
      "metadata": {
        "id": "yuBw12reMiT_"
      },
      "source": [
        "# nums = [100,200,300,400,500]\r\n",
        "# del nums[3] [100,200,300,500]\r\n",
        "# del nums[4] 4가 없어짐"
      ],
      "execution_count": 15,
      "outputs": []
    },
    {
      "cell_type": "code",
      "metadata": {
        "id": "XNKhyya0NX-0"
      },
      "source": [
        "i= [200,100,300]\r\n",
        "i.insert(2,10000)"
      ],
      "execution_count": 23,
      "outputs": []
    },
    {
      "cell_type": "code",
      "metadata": {
        "colab": {
          "base_uri": "https://localhost:8080/"
        },
        "id": "YKs46uRiNu7v",
        "outputId": "81ff09fb-62d8-49db-b024-b10768cfc5c8"
      },
      "source": [
        "print(i)"
      ],
      "execution_count": 24,
      "outputs": [
        {
          "output_type": "stream",
          "text": [
            "[200, 100, 10000, 300]\n"
          ],
          "name": "stdout"
        }
      ]
    },
    {
      "cell_type": "code",
      "metadata": {
        "colab": {
          "base_uri": "https://localhost:8080/"
        },
        "id": "gwBWcAUFOHvo",
        "outputId": "93648181-16ef-43b5-f251-5f8b17243080"
      },
      "source": [
        "i=[100,200,300]\r\n",
        "print(type(1))"
      ],
      "execution_count": 27,
      "outputs": [
        {
          "output_type": "stream",
          "text": [
            "<class 'int'>\n"
          ],
          "name": "stdout"
        }
      ]
    },
    {
      "cell_type": "code",
      "metadata": {
        "colab": {
          "base_uri": "https://localhost:8080/"
        },
        "id": "Q-kwHlLxOk4V",
        "outputId": "a9c9d634-7209-42b3-98a0-9a364008b970"
      },
      "source": [
        "n = int(input('몇단짜리 크리스마스 트리를 만들까요? :'))\r\n",
        "for i in range(1,n+1):   #n=5라고 가정\r\n",
        "    print(\" \" * (n-i) + \"*\" * (2*i-1))  #홀수공식(2n-1)\r\n",
        " "
      ],
      "execution_count": 42,
      "outputs": [
        {
          "output_type": "stream",
          "text": [
            "몇단짜리 크리스마스 트리를 만들까요? :6\n",
            "     *\n",
            "    ***\n",
            "   *****\n",
            "  *******\n",
            " *********\n",
            "***********\n"
          ],
          "name": "stdout"
        }
      ]
    },
    {
      "cell_type": "code",
      "metadata": {
        "id": "8VpbTQ7OOl3c"
      },
      "source": [
        "#11번"
      ],
      "execution_count": 43,
      "outputs": []
    },
    {
      "cell_type": "code",
      "metadata": {
        "colab": {
          "base_uri": "https://localhost:8080/"
        },
        "id": "cLbW0_hQyiVC",
        "outputId": "9a1e3af0-cacd-43f1-9b3e-f2a7d2c23787"
      },
      "source": [
        "s = 0\r\n",
        "for i in range(1,101):\r\n",
        "   s += i\r\n",
        "\r\n",
        "print(s)"
      ],
      "execution_count": 55,
      "outputs": [
        {
          "output_type": "stream",
          "text": [
            "5050\n"
          ],
          "name": "stdout"
        }
      ]
    },
    {
      "cell_type": "code",
      "metadata": {
        "colab": {
          "base_uri": "https://localhost:8080/"
        },
        "id": "5VqyRBYRylCL",
        "outputId": "c732b5bc-2c33-4f17-d706-f8ce14c6a4ac"
      },
      "source": [
        "class Wizard:\r\n",
        "    def __init__(self,health,mana,armor):\r\n",
        "        self.health = health\r\n",
        "        self.mana = mana\r\n",
        "        self.armor = armor\r\n",
        "    def attack(self):\r\n",
        "      print(\"파이어볼\")\r\n",
        "\r\n",
        "x = Wizard(health = 545, mana = 210, armor = 10)\r\n",
        "print(x.health, x. mana, x.armor)\r\n",
        "x.attack()"
      ],
      "execution_count": 57,
      "outputs": [
        {
          "output_type": "stream",
          "text": [
            "545 210 10\n",
            "파이어볼\n"
          ],
          "name": "stdout"
        }
      ]
    },
    {
      "cell_type": "code",
      "metadata": {
        "colab": {
          "base_uri": "https://localhost:8080/"
        },
        "id": "JM6vur5K8QSx",
        "outputId": "48f1bc10-628e-4853-85bc-7a42fb756547"
      },
      "source": [
        "planets = ['수성','금성','지구','화성','목성','토성','천왕성','해왕성']\r\n",
        "n = int(input('몇번째 행성이름을 알고 싶은신가요? :'))\r\n",
        "print(planets[n-1])"
      ],
      "execution_count": 58,
      "outputs": [
        {
          "output_type": "stream",
          "text": [
            "몇번째 행성이름을 알고 싶은신가요? :3\n",
            "지구\n"
          ],
          "name": "stdout"
        }
      ]
    },
    {
      "cell_type": "code",
      "metadata": {
        "colab": {
          "base_uri": "https://localhost:8080/"
        },
        "id": "FSoBxEZOAqKJ",
        "outputId": "4d900dc3-bb0a-4f50-8846-96ad3ce8814a"
      },
      "source": [
        "#12번 게임 캐릭터 클래스 만들기\r\n",
        "class Wizard:\r\n",
        "    def __init__(self,health,mana,armor): #생성자를 생성하여 객체안에 집어 넣는다\r\n",
        "        self.health = health\r\n",
        "        self.mana = mana\r\n",
        "        self.armor = armor\r\n",
        "    def attack(self):\r\n",
        "      print(\"파이어볼\")\r\n",
        "\r\n",
        "x = Wizard(health = 545, mana = 210, armor = 10)\r\n",
        "print(x.health, x. mana, x.armor)\r\n",
        "x.attack()"
      ],
      "execution_count": 60,
      "outputs": [
        {
          "output_type": "stream",
          "text": [
            "545 210 10\n",
            "파이어볼\n"
          ],
          "name": "stdout"
        }
      ]
    },
    {
      "cell_type": "code",
      "metadata": {
        "colab": {
          "base_uri": "https://localhost:8080/"
        },
        "id": "4XpzgErYgnGf",
        "outputId": "d8ee33d3-1e65-4b0c-ac6d-eece1332aced"
      },
      "source": [
        "#13번 몇 번째 행성인가요?\r\n",
        "planets = ['수성','금성','지구','화성','목성','토성','천왕성','해왕성']\r\n",
        "n = int(input('몇번째 행성이름을 알고 싶은신가요? :'))\r\n",
        "print(planets[n-1])"
      ],
      "execution_count": 61,
      "outputs": [
        {
          "output_type": "stream",
          "text": [
            "몇번째 행성이름을 알고 싶은신가요? :2\n",
            "금성\n"
          ],
          "name": "stdout"
        }
      ]
    },
    {
      "cell_type": "code",
      "metadata": {
        "colab": {
          "base_uri": "https://localhost:8080/"
        },
        "id": "uoQEoxNCgw--",
        "outputId": "103c4552-49b7-41a2-f6a4-a3cd84fe418c"
      },
      "source": [
        "#14번 3의 배수 인가요?\r\n",
        "n = int(input('숫자를 입력하세요 :'))\r\n",
        "while True:\r\n",
        "    if n % 3 == 0:\r\n",
        "        print('짝')\r\n",
        "    else:\r\n",
        "        print(n)\r\n",
        "    break\r\n",
        "        "
      ],
      "execution_count": 62,
      "outputs": [
        {
          "output_type": "stream",
          "text": [
            "숫자를 입력하세요 :3\n",
            "짝\n"
          ],
          "name": "stdout"
        }
      ]
    },
    {
      "cell_type": "code",
      "metadata": {
        "colab": {
          "base_uri": "https://localhost:8080/"
        },
        "id": "zx6doAT5gyM5",
        "outputId": "fd9cbe85-84bf-4486-8fdb-535e442e2974"
      },
      "source": [
        "#15번 자기소개\r\n",
        "n = input()\r\n",
        "print('안녕하세요. 저는 %s입니다.'%n)"
      ],
      "execution_count": 63,
      "outputs": [
        {
          "output_type": "stream",
          "text": [
            "최고은\n",
            "안녕하세요. 저는 최고은입니다.\n"
          ],
          "name": "stdout"
        }
      ]
    },
    {
      "cell_type": "code",
      "metadata": {
        "colab": {
          "base_uri": "https://localhost:8080/"
        },
        "id": "HvAh0KIegzm0",
        "outputId": "4c402ba2-47a5-43b8-ddf1-e7d651f2f286"
      },
      "source": [
        "#16번 거꾸로 뒤집기\r\n",
        "a=input('')\r\n",
        "for i in range(len(a),0,-1):\r\n",
        "    print(a[i-1],end=\"\")\r\n",
        "    \r\n",
        "# a= input('')\r\n",
        "# print(a[::-1]) #그래도 뒤집는 문법"
      ],
      "execution_count": 66,
      "outputs": [
        {
          "output_type": "stream",
          "text": [
            "거꾸로\n",
            "로꾸거"
          ],
          "name": "stdout"
        }
      ]
    },
    {
      "cell_type": "code",
      "metadata": {
        "colab": {
          "base_uri": "https://localhost:8080/"
        },
        "id": "IR4WBhA_g5Qu",
        "outputId": "7c06e541-e972-4965-dbf3-e9ff1ac183e8"
      },
      "source": [
        "#17번 놀이기구 키 제한\r\n",
        "t =int(input('150 이상만 탈 수 있습니다.'))\r\n",
        "if t > 150:\r\n",
        "    print('YES')\r\n",
        "else:\r\n",
        "    print('No')"
      ],
      "execution_count": 65,
      "outputs": [
        {
          "output_type": "stream",
          "text": [
            "150 이상만 탈 수 있습니다.151\n",
            "YES\n"
          ],
          "name": "stdout"
        }
      ]
    },
    {
      "cell_type": "code",
      "metadata": {
        "colab": {
          "base_uri": "https://localhost:8080/"
        },
        "id": "eFID4V9xg7zW",
        "outputId": "de61e3f3-321f-429f-edcb-75c66fbd7265"
      },
      "source": [
        "#18번 평균점수\r\n",
        "nums = list(map(int,input('점수를 입력하시오:').split()))\r\n",
        "print(int(sum(nums)/len(nums)))"
      ],
      "execution_count": 67,
      "outputs": [
        {
          "output_type": "stream",
          "text": [
            "점수를 입력하시오:30 40 20\n",
            "30\n"
          ],
          "name": "stdout"
        }
      ]
    },
    {
      "cell_type": "code",
      "metadata": {
        "colab": {
          "base_uri": "https://localhost:8080/"
        },
        "id": "i2LkiRA_hEly",
        "outputId": "f6e09c33-d4e1-4354-c9f9-43d1d7a47b78"
      },
      "source": [
        "#19번 제곱을 구하자\r\n",
        "n = list(map(int,input().split()))\r\n",
        "print(n[0]**n[1]) \r\n",
        "#n= list(map(int, input().split()))\r\n",
        "#print(a**b) 제곱"
      ],
      "execution_count": 69,
      "outputs": [
        {
          "output_type": "stream",
          "text": [
            "3 5\n",
            "243\n"
          ],
          "name": "stdout"
        }
      ]
    },
    {
      "cell_type": "code",
      "metadata": {
        "colab": {
          "base_uri": "https://localhost:8080/"
        },
        "id": "Vm_2iJbvhIg8",
        "outputId": "d810905b-fc43-412e-a9d4-e05d88a7f9d8"
      },
      "source": [
        "#20번 몫과 나머지\r\n",
        "n = list(map(int,input().split()))\r\n",
        "print(n[0] // n[1], n[0] % n[1],sep=\" \") "
      ],
      "execution_count": 70,
      "outputs": [
        {
          "output_type": "stream",
          "text": [
            "20 4\n",
            "5 0\n"
          ],
          "name": "stdout"
        }
      ]
    },
    {
      "cell_type": "code",
      "metadata": {
        "id": "3HcyXL3mhPZy"
      },
      "source": [
        "#21번 set(집합)객관식\r\n",
        "# x={} #set이 아니다 ->dict\r\n",
        "# x=set(range(5)) set 맞다\r\n",
        "# x=set('python') set 맞다\r\n",
        "# x=set() set 맞다\r\n",
        "# x={1,2,3,4,5} set 맞다"
      ],
      "execution_count": 71,
      "outputs": []
    },
    {
      "cell_type": "code",
      "metadata": {
        "colab": {
          "base_uri": "https://localhost:8080/"
        },
        "id": "X7zCMCDlhTU7",
        "outputId": "1dbeb01e-ec03-4414-be36-92d5655d3959"
      },
      "source": [
        "print(10/2)"
      ],
      "execution_count": 72,
      "outputs": [
        {
          "output_type": "stream",
          "text": [
            "5.0\n"
          ],
          "name": "stdout"
        }
      ]
    },
    {
      "cell_type": "code",
      "metadata": {
        "colab": {
          "base_uri": "https://localhost:8080/"
        },
        "id": "XwxISbzEhR0c",
        "outputId": "9653322d-15db-4bfd-978c-5849ca301243"
      },
      "source": [
        "print(10//2)"
      ],
      "execution_count": 73,
      "outputs": [
        {
          "output_type": "stream",
          "text": [
            "5\n"
          ],
          "name": "stdout"
        }
      ]
    },
    {
      "cell_type": "code",
      "metadata": {
        "colab": {
          "base_uri": "https://localhost:8080/"
        },
        "id": "tD1Z-c8hhUoz",
        "outputId": "00b164b6-3a2c-4f53-b21a-379e210ee2f6"
      },
      "source": [
        "#24번 대문자로 바꿔주세요.\r\n",
        "n =input('이름을 입력하세요')\r\n",
        "\r\n",
        "print(n.upper())\r\n",
        "\r\n",
        "#print(input().upper())"
      ],
      "execution_count": 74,
      "outputs": [
        {
          "output_type": "stream",
          "text": [
            "이름을 입력하세요mary\n",
            "MARY\n"
          ],
          "name": "stdout"
        }
      ]
    },
    {
      "cell_type": "code",
      "metadata": {
        "colab": {
          "base_uri": "https://localhost:8080/"
        },
        "id": "azs_AfQuhVqN",
        "outputId": "a95d31b0-6763-4f0f-bc10-44f8ba4bb397"
      },
      "source": [
        "#25번 원의 넓이를 구하시오.\r\n",
        "def circle(n):\r\n",
        "    return n*n*3.141592\r\n",
        "\r\n",
        "circle(int(input()))"
      ],
      "execution_count": 75,
      "outputs": [
        {
          "output_type": "stream",
          "text": [
            "2\n"
          ],
          "name": "stdout"
        },
        {
          "output_type": "execute_result",
          "data": {
            "text/plain": [
              "12.566368"
            ]
          },
          "metadata": {
            "tags": []
          },
          "execution_count": 75
        }
      ]
    },
    {
      "cell_type": "code",
      "metadata": {
        "colab": {
          "base_uri": "https://localhost:8080/"
        },
        "id": "O6FzpCT8hYSH",
        "outputId": "c3026cb7-e44a-47cb-9101-f2a21b14aa6b"
      },
      "source": [
        "#26번 행성문제 2 한글->영어\r\n",
        "planets = {\r\n",
        "    '수성':'mercury',\r\n",
        "    '금성':'Venus',\r\n",
        "    '지구':'Earth',\r\n",
        "    '화성':'mars',\r\n",
        "    '목성':'Jupiter',\r\n",
        "    '토성':'Saturn',\r\n",
        "    '천왕성':'Uranus',\r\n",
        "    '해왕성':'Neptune'\r\n",
        "}\r\n",
        "try:\r\n",
        "    n=input('행성을 입력하세요:')\r\n",
        "    print(planets[n])\r\n",
        "    \r\n",
        "except KeyError:\r\n",
        "    print('찾는 행성이 없습니다')"
      ],
      "execution_count": 77,
      "outputs": [
        {
          "output_type": "stream",
          "text": [
            "행성을 입력하세요:수성\n",
            "mercury\n"
          ],
          "name": "stdout"
        }
      ]
    },
    {
      "cell_type": "code",
      "metadata": {
        "colab": {
          "base_uri": "https://localhost:8080/"
        },
        "id": "zD49OG6_heuE",
        "outputId": "b05d52c6-633b-474e-e43a-e7af26304ed6"
      },
      "source": [
        "planets = {\r\n",
        "    '수성':'mercury',\r\n",
        "    '금성':'Venus',\r\n",
        "    '지구':'Earth',\r\n",
        "    '화성':'mars',\r\n",
        "    '목성':'Jupiter',\r\n",
        "    '토성':'Saturn',\r\n",
        "    '천왕성':'Uranus',\r\n",
        "    '해왕성':'Neptune'\r\n",
        "}\r\n",
        "\r\n",
        "print(planets.get(input()))"
      ],
      "execution_count": 79,
      "outputs": [
        {
          "output_type": "stream",
          "text": [
            "수성\n",
            "mercury\n"
          ],
          "name": "stdout"
        }
      ]
    },
    {
      "cell_type": "code",
      "metadata": {
        "id": "XcYZNCFZhjzS"
      },
      "source": [
        ""
      ],
      "execution_count": null,
      "outputs": []
    }
  ]
}
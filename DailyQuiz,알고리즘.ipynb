{
  "nbformat": 4,
  "nbformat_minor": 0,
  "metadata": {
    "colab": {
      "name": "DailyQuiz, 알고리즘.ipynb",
      "provenance": [],
      "authorship_tag": "ABX9TyP+LdfVxk7+O+41dFI1PRkc",
      "include_colab_link": true
    },
    "kernelspec": {
      "name": "python3",
      "display_name": "Python 3"
    },
    "language_info": {
      "name": "python"
    }
  },
  "cells": [
    {
      "cell_type": "markdown",
      "metadata": {
        "id": "view-in-github",
        "colab_type": "text"
      },
      "source": [
        "<a href=\"https://colab.research.google.com/github/cge1111/pythonbasic/blob/main/DailyQuiz%2C%EC%95%8C%EA%B3%A0%EB%A6%AC%EC%A6%98.ipynb\" target=\"_parent\"><img src=\"https://colab.research.google.com/assets/colab-badge.svg\" alt=\"Open In Colab\"/></a>"
      ]
    },
    {
      "cell_type": "code",
      "metadata": {
        "id": "uLpIefZqPNUM",
        "colab": {
          "base_uri": "https://localhost:8080/"
        },
        "outputId": "adf4c985-b52d-4af9-e549-e2f21bda93ea"
      },
      "source": [
        "# 20210323   Q2. \n",
        "# 인풋을 정수 n으로 받았을때, n 이하까지의 피보나치 수열을 출력하는 프로그램을 작성하세요\n",
        "\n",
        "n = int(input('num?:'))       # 숫자를 입력한다.\n",
        "a, b=0, 1                     # a=0, b=1을 대입한다.\n",
        "while a <= n:                # a 는 n보다 작거나 같을때까지 while을 반복한다.\n",
        "    print(a, end=' ')         # a값을 출력한다.\n",
        "    a, b = b,a + b            # 피보나치수열공식 (a=b, b= a+b를 대입하여 반복한다.)"
      ],
      "execution_count": null,
      "outputs": [
        {
          "output_type": "stream",
          "text": [
            "num?:13\n",
            "0 1 1 2 3 5 8 13 "
          ],
          "name": "stdout"
        }
      ]
    },
    {
      "cell_type": "code",
      "metadata": {
        "id": "keGg-XMZoTQa"
      },
      "source": [
        ""
      ],
      "execution_count": 20,
      "outputs": []
    },
    {
      "cell_type": "code",
      "metadata": {
        "id": "5R5ldJIjWE-b"
      },
      "source": [
        ""
      ],
      "execution_count": 20,
      "outputs": []
    },
    {
      "cell_type": "code",
      "metadata": {
        "colab": {
          "base_uri": "https://localhost:8080/"
        },
        "id": "uMLXYqvyWmKR",
        "outputId": "a34e8dce-921e-41ea-aa66-4f3b1553b42f"
      },
      "source": [
        "# 퀵 정열의 알고리즘   --- 풀이 1\n",
        "def Quick_sort(a):\n",
        "  n=len(a)\n",
        "  if n<=1:\n",
        "    return a\n",
        "  pivot = a[-1]\n",
        "  g_left=[]\n",
        "  g_right=[]\n",
        "  for i in range(0, n-1):\n",
        "    if a[i] <= pivot:\n",
        "      g_left.append(a[i])\n",
        "    else:\n",
        "      g_right.append(a[i])\n",
        "\n",
        "  print(g_left, g_right)\n",
        "  return Quick_sort(g_left)+[pivot] + Quick_sort(g_right)\n",
        "\n",
        "\n",
        "d=[8,12,1,9,102,25,32,98,31]\n",
        "print(Quick_sort(d))"
      ],
      "execution_count": 18,
      "outputs": [
        {
          "output_type": "stream",
          "text": [
            "[8, 12, 1, 9, 25] [102, 32, 98]\n",
            "[8, 12, 1, 9] []\n",
            "[8, 1] [12]\n",
            "[] [8]\n",
            "[32] [102]\n",
            "[1, 8, 9, 12, 25, 31, 32, 98, 102]\n"
          ],
          "name": "stdout"
        }
      ]
    },
    {
      "cell_type": "code",
      "metadata": {
        "colab": {
          "base_uri": "https://localhost:8080/"
        },
        "id": "xMKOq3dWXd9b",
        "outputId": "5ce93768-634a-4f20-fad6-122a46a0a0eb"
      },
      "source": [
        "# 퀵 정열의 알고리즘   --- 풀이 2\n",
        "def Quick_sort(a):\n",
        "  n=len(a)\n",
        "  if n<=1:\n",
        "    return a\n",
        "  pivot = a[-1]\n",
        "  g_left=[]\n",
        "  g_right=[]\n",
        "  for i in range(0, n-1):\n",
        "    if a[i] <= pivot:\n",
        "      g_left.append(a[i])\n",
        "    else:\n",
        "      g_right.append(a[i])\n",
        "  print(g_left,end=\"left<->right\"),print(g_right)\n",
        "  return Quick_sort(g_left)+[pivot] + Quick_sort(g_right)\n",
        "\n",
        "d=[8,12,1,9,102,25,32,98,31]\n",
        "print(Quick_sort(d))"
      ],
      "execution_count": 20,
      "outputs": [
        {
          "output_type": "stream",
          "text": [
            "[8, 12, 1, 9, 25]left<->right[102, 32, 98]\n",
            "[8, 12, 1, 9]left<->right[]\n",
            "[8, 1]left<->right[12]\n",
            "[]left<->right[8]\n",
            "[32]left<->right[102]\n",
            "[1, 8, 9, 12, 25, 31, 32, 98, 102]\n"
          ],
          "name": "stdout"
        }
      ]
    },
    {
      "cell_type": "code",
      "metadata": {
        "colab": {
          "base_uri": "https://localhost:8080/"
        },
        "id": "yw8pb79DZPCQ",
        "outputId": "d06b4848-7527-4a82-e86c-ad7bd51123ef"
      },
      "source": [
        "# 파이썬에서는 재귀 길이의 한계가 정해져있다. 기본적으로 1000번 까지 수행(함수를 사용해서 변경가능)\n",
        "\n",
        "def rec_func(i):\n",
        "  print(\"hi\")\n",
        "  print(i)\n",
        "  if i < 10:\n",
        "    rec_func(i+1)\n",
        "\n",
        "rec_func(0)"
      ],
      "execution_count": 22,
      "outputs": [
        {
          "output_type": "stream",
          "text": [
            "hi\n",
            "0\n",
            "hi\n",
            "1\n",
            "hi\n",
            "2\n",
            "hi\n",
            "3\n",
            "hi\n",
            "4\n",
            "hi\n",
            "5\n",
            "hi\n",
            "6\n",
            "hi\n",
            "7\n",
            "hi\n",
            "8\n",
            "hi\n",
            "9\n",
            "hi\n",
            "10\n"
          ],
          "name": "stdout"
        }
      ]
    },
    {
      "cell_type": "code",
      "metadata": {
        "colab": {
          "base_uri": "https://localhost:8080/"
        },
        "id": "Gp0nrcnfjujh",
        "outputId": "2f85ffcc-328b-4ef0-c999-8e75376f4812"
      },
      "source": [
        "# Quiz. 1에서 10까지 합을 재귀함수로 구현.  10에서 1로...\n",
        "\n",
        "def rec_func(i):                 # 변수설정\n",
        "  if i == 1:                     # 만약 i가 1이라면 \n",
        "    return 1                     # 1출력\n",
        "  else:                          # 1이 아니라면\n",
        "    print(i)                     # i값 출력\n",
        "    return i + rec_func(i-1)     # 1이 아니라면 i값에서 -1하고 더해라\n",
        "  \n",
        "\n",
        "rec_func(10)                     # 10까지의 합을 구해라."
      ],
      "execution_count": 47,
      "outputs": [
        {
          "output_type": "stream",
          "text": [
            "10\n",
            "9\n",
            "8\n",
            "7\n",
            "6\n",
            "5\n",
            "4\n",
            "3\n",
            "2\n"
          ],
          "name": "stdout"
        },
        {
          "output_type": "execute_result",
          "data": {
            "text/plain": [
              "55"
            ]
          },
          "metadata": {
            "tags": []
          },
          "execution_count": 47
        }
      ]
    },
    {
      "cell_type": "code",
      "metadata": {
        "id": "PJASTMGJmN-r"
      },
      "source": [
        ""
      ],
      "execution_count": null,
      "outputs": []
    }
  ]
}
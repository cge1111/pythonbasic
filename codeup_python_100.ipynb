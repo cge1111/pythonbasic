{
  "nbformat": 4,
  "nbformat_minor": 0,
  "metadata": {
    "colab": {
      "name": "codeup_python_100.ipynb",
      "provenance": [],
      "collapsed_sections": [],
      "authorship_tag": "ABX9TyOEEj7ydSASp+DKarBgbyaB",
      "include_colab_link": true
    },
    "kernelspec": {
      "name": "python3",
      "display_name": "Python 3"
    },
    "language_info": {
      "name": "python"
    }
  },
  "cells": [
    {
      "cell_type": "markdown",
      "metadata": {
        "id": "view-in-github",
        "colab_type": "text"
      },
      "source": [
        "<a href=\"https://colab.research.google.com/github/cge1111/pythonbasic/blob/main/codeup_python_100.ipynb\" target=\"_parent\"><img src=\"https://colab.research.google.com/assets/colab-badge.svg\" alt=\"Open In Colab\"/></a>"
      ]
    },
    {
      "cell_type": "code",
      "execution_count": null,
      "metadata": {
        "colab": {
          "base_uri": "https://localhost:8080/"
        },
        "id": "clen4wpeYlYv",
        "outputId": "f9b7f1ef-fec9-4d67-cc41-389a95f09aa7"
      },
      "outputs": [
        {
          "output_type": "stream",
          "name": "stdout",
          "text": [
            "\"!@#$%^&*()'\n"
          ]
        }
      ],
      "source": [
        "print(\"\\\"!@#$%^&*()'\")\n",
        "\n",
        "# 출력 형식에 필요한 따옴표와 출력할 문자인 따옴표를 구분하기 위하여 \\\" 또는 \\' 를 이용하여 출력할 수 있다."
      ]
    },
    {
      "cell_type": "code",
      "source": [
        "a = float(input())\n",
        "for i in range(3):\n",
        "  print(a)\n"
      ],
      "metadata": {
        "colab": {
          "base_uri": "https://localhost:8080/"
        },
        "id": "mGxJ8ja2_mdJ",
        "outputId": "e6a9e331-f4e7-44c4-f9db-668d95259a7f"
      },
      "execution_count": null,
      "outputs": [
        {
          "output_type": "stream",
          "name": "stdout",
          "text": [
            "0.1\n",
            "0.1\n",
            "0.1\n",
            "0.1\n"
          ]
        }
      ]
    },
    {
      "cell_type": "code",
      "source": [
        "print(\"\\\"C:\\\\Download\\\\\\'hello'.py\\\"\")"
      ],
      "metadata": {
        "colab": {
          "base_uri": "https://localhost:8080/"
        },
        "id": "4kHFKsc1YsA-",
        "outputId": "3f54fcfa-5f13-4e14-e92d-767c87837f03"
      },
      "execution_count": null,
      "outputs": [
        {
          "output_type": "stream",
          "name": "stdout",
          "text": [
            "\"C:\\Download\\'hello'.py\"\n"
          ]
        }
      ]
    },
    {
      "cell_type": "code",
      "source": [
        "# 15\n",
        "a,b = map(int, input().split())\n",
        "print(f'{a}\\n{b}')\n",
        "\n",
        "c, d = input().split()\n",
        "print(c)\n",
        "print(d)"
      ],
      "metadata": {
        "colab": {
          "base_uri": "https://localhost:8080/"
        },
        "id": "jWGls5W5Army",
        "outputId": "b0bd4aba-3c2d-4283-a305-248968acb869"
      },
      "execution_count": null,
      "outputs": [
        {
          "output_type": "stream",
          "name": "stdout",
          "text": [
            "1 2\n",
            "1\n",
            "2\n",
            "1 2\n",
            "1\n",
            "2\n"
          ]
        }
      ]
    },
    {
      "cell_type": "code",
      "source": [
        "# 16\n",
        "a, b = input().split()\n",
        "print(f'{b}\\n{a}')"
      ],
      "metadata": {
        "colab": {
          "base_uri": "https://localhost:8080/"
        },
        "id": "Io2LH4gbCvsC",
        "outputId": "a5345eb2-1b35-4e38-f0ce-70424aee3da3"
      },
      "execution_count": null,
      "outputs": [
        {
          "output_type": "stream",
          "name": "stdout",
          "text": [
            "a b\n",
            "b\n",
            "a\n"
          ]
        }
      ]
    },
    {
      "cell_type": "code",
      "source": [
        "# 17\n",
        "a = input()\n",
        "for i in range(3):\n",
        "  print(a, end=' ')"
      ],
      "metadata": {
        "colab": {
          "base_uri": "https://localhost:8080/"
        },
        "id": "5WvBRzUeCwFN",
        "outputId": "ecd23b32-ccfe-47bc-ca84-f471ec1691f7"
      },
      "execution_count": null,
      "outputs": [
        {
          "output_type": "stream",
          "name": "stdout",
          "text": [
            "a b\n",
            "a b a b a b "
          ]
        }
      ]
    },
    {
      "cell_type": "code",
      "source": [
        "# 18 시간 입력받아 그대로 출력하기\n",
        "a, b = input().split(':')\n",
        "print(a, b, sep = ':')\n"
      ],
      "metadata": {
        "colab": {
          "base_uri": "https://localhost:8080/"
        },
        "id": "Ejf6VcX-Dn1-",
        "outputId": "9d0ebf7c-1cf6-4548-e091-13834f7e2157"
      },
      "execution_count": null,
      "outputs": [
        {
          "output_type": "stream",
          "name": "stdout",
          "text": [
            "2:16\n",
            "2:16\n"
          ]
        }
      ]
    },
    {
      "cell_type": "code",
      "source": [
        "# 19.[기초-입출력] 연월일 입력받아 순서 바꿔 출력하기\n",
        "y,m,d = input().split('.')\n",
        "print(d,m,y,sep=\"-\")"
      ],
      "metadata": {
        "colab": {
          "base_uri": "https://localhost:8080/"
        },
        "id": "zHDmNo_LDn4a",
        "outputId": "638259c5-4b75-4f60-aae8-6b86de0d3bd5"
      },
      "execution_count": null,
      "outputs": [
        {
          "output_type": "stream",
          "name": "stdout",
          "text": [
            "2020.3.4\n",
            "4-3-2020\n"
          ]
        }
      ]
    },
    {
      "cell_type": "code",
      "source": [
        "# 20 : [기초-입출력] 주민번호 입력받아 형태 바꿔 출력하기\n",
        "a, b = input().split('-')\n",
        "print(f'{a}{b}')\n",
        "print(a+b)"
      ],
      "metadata": {
        "colab": {
          "base_uri": "https://localhost:8080/"
        },
        "id": "sUAi9rQCDn8b",
        "outputId": "60cb3338-da22-4579-e338-31d31a30ebad"
      },
      "execution_count": null,
      "outputs": [
        {
          "output_type": "stream",
          "name": "stdout",
          "text": [
            "00-00\n",
            "0000\n",
            "0000\n"
          ]
        }
      ]
    },
    {
      "cell_type": "code",
      "source": [
        "# 21 : [기초-입출력] 단어 1개 입력받아 나누어 출력하기(설명)\n",
        "a = input()\n",
        "for i in a:\n",
        "  print(i)"
      ],
      "metadata": {
        "id": "NwMmiI1PDn_B",
        "colab": {
          "base_uri": "https://localhost:8080/"
        },
        "outputId": "48b59970-f81f-4789-b303-7303a60fb9ec"
      },
      "execution_count": null,
      "outputs": [
        {
          "output_type": "stream",
          "name": "stdout",
          "text": [
            "Hello\n",
            "H\n",
            "e\n",
            "l\n",
            "l\n",
            "o\n"
          ]
        }
      ]
    },
    {
      "cell_type": "code",
      "source": [
        "# 22 : [기초-입출력] 연월일 입력받아 나누어 출력하기\n",
        "s = input()\n",
        "print(s[0:2], s[2:4], s[4:])"
      ],
      "metadata": {
        "colab": {
          "base_uri": "https://localhost:8080/"
        },
        "id": "5OArkzuzDK1b",
        "outputId": "09dbc27a-1b32-4b21-deae-65c226c452b8"
      },
      "execution_count": null,
      "outputs": [
        {
          "output_type": "stream",
          "name": "stdout",
          "text": [
            "200304\n",
            "20 03 04\n"
          ]
        }
      ]
    },
    {
      "cell_type": "code",
      "source": [
        "a = input().split(':')\n",
        "print(a[1])"
      ],
      "metadata": {
        "id": "dOJ8KlctABq3",
        "colab": {
          "base_uri": "https://localhost:8080/"
        },
        "outputId": "d3016078-2ba0-4dce-bb42-dccde93d3d55"
      },
      "execution_count": null,
      "outputs": [
        {
          "output_type": "stream",
          "name": "stdout",
          "text": [
            "17:23:57\n",
            "23\n"
          ]
        }
      ]
    },
    {
      "cell_type": "code",
      "source": [
        "# 24 : [기초-입출력] 단어 2개 입력받아 이어 붙이기(설명)\n",
        "a, b = input().split()\n",
        "print(a+b)"
      ],
      "metadata": {
        "id": "fXmx8aJx-thN",
        "colab": {
          "base_uri": "https://localhost:8080/"
        },
        "outputId": "f66be0a6-4d17-4a65-eb35-36438d50ae19"
      },
      "execution_count": null,
      "outputs": [
        {
          "output_type": "stream",
          "name": "stdout",
          "text": [
            "hello world\n",
            "helloworld\n"
          ]
        }
      ]
    },
    {
      "cell_type": "code",
      "source": [
        "# 25 : [기초-값변환] 정수 2개 입력받아 합 계산하기\n",
        "a, b = input().split()\n",
        "print(int(a)+int(b))"
      ],
      "metadata": {
        "id": "Twpkc0jn-t7X",
        "colab": {
          "base_uri": "https://localhost:8080/"
        },
        "outputId": "7fedc1ac-5c44-4c40-90a1-5d0531f522a9"
      },
      "execution_count": null,
      "outputs": [
        {
          "output_type": "stream",
          "name": "stdout",
          "text": [
            "123 -123\n",
            "0\n"
          ]
        }
      ]
    },
    {
      "cell_type": "markdown",
      "source": [
        "\n",
        "### 10진수 -> 16진수 = '%x(소문자)\n",
        "### 10진수 -> 16진수 = '%x(대문자)\n",
        "### 16진수 -> 8진수 = '%o\n",
        "16진수(hexadecimal)\n",
        "8진수(octal)\n",
        "### 영문자 -> 10진수 = 유니코드 (ord)\n",
        "### 10진수 -> 영문자 = 유니코드 (chr)\n",
        "\n",
        "a -> b 오는 코드 = ord -> chr\n",
        "\n",
        "### map은 리스트에만!\n"
      ],
      "metadata": {
        "id": "mlDO_r6UhjPH"
      }
    },
    {
      "cell_type": "code",
      "source": [
        "# 27 : [기초-출력변환] 10진 정수 입력받아 16진수로 출력하기1\n",
        "a = int(input())\n",
        "print('%x'%a)"
      ],
      "metadata": {
        "id": "2LnLE8Ud7a3A",
        "colab": {
          "base_uri": "https://localhost:8080/"
        },
        "outputId": "65cef486-d1b1-4cfc-f83b-8923e82cbe96"
      },
      "execution_count": null,
      "outputs": [
        {
          "output_type": "stream",
          "name": "stdout",
          "text": [
            "255\n",
            "ff\n"
          ]
        }
      ]
    },
    {
      "cell_type": "code",
      "source": [
        "# 28 : [기초-출력변환] 10진 정수 입력받아 16진수로 출력하기2\n",
        "a = int(input())\n",
        "print('%X'%a)"
      ],
      "metadata": {
        "id": "rWIz15Pm7bOu",
        "colab": {
          "base_uri": "https://localhost:8080/"
        },
        "outputId": "ab85f4d1-5c86-496d-942b-c25fd92a20a3"
      },
      "execution_count": null,
      "outputs": [
        {
          "output_type": "stream",
          "name": "stdout",
          "text": [
            "255\n",
            "FF\n"
          ]
        }
      ]
    },
    {
      "cell_type": "code",
      "source": [
        "# 29 : [기초-값변환] 16진 정수 입력받아 8진수로 출력하기\n",
        "a = int(input(),16)\n",
        "print('%o'%a)"
      ],
      "metadata": {
        "id": "oX9Uq9hf7bXf",
        "colab": {
          "base_uri": "https://localhost:8080/"
        },
        "outputId": "65820561-3704-4d70-c90a-7f79dccda7b9"
      },
      "execution_count": null,
      "outputs": [
        {
          "output_type": "stream",
          "name": "stdout",
          "text": [
            "f\n",
            "17\n"
          ]
        }
      ]
    },
    {
      "cell_type": "code",
      "source": [
        "# 30 : [기초-값변환] 영문자 1개 입력받아 10진수로 변환하기\n",
        "s = input()\n",
        "print(ord(s))"
      ],
      "metadata": {
        "id": "WPOcvvWN7bdb",
        "colab": {
          "base_uri": "https://localhost:8080/"
        },
        "outputId": "3c9d6973-6f06-4e96-ac58-684f6ed05c92"
      },
      "execution_count": null,
      "outputs": [
        {
          "output_type": "stream",
          "name": "stdout",
          "text": [
            "d\n",
            "100\n"
          ]
        }
      ]
    },
    {
      "cell_type": "code",
      "source": [
        "# 31 : [기초-값변환] 정수 입력받아 유니코드 문자로 변환하기\n",
        "a = int(input())\n",
        "print(chr(a))"
      ],
      "metadata": {
        "colab": {
          "base_uri": "https://localhost:8080/"
        },
        "id": "KEZ_UasniunI",
        "outputId": "c49c91af-460f-44c0-ada7-2e94b1f8b825"
      },
      "execution_count": null,
      "outputs": [
        {
          "output_type": "stream",
          "name": "stdout",
          "text": [
            "65\n",
            "A\n"
          ]
        }
      ]
    },
    {
      "cell_type": "code",
      "source": [
        "# 32 : [기초-산술연산] 정수 1개 입력받아 부호 바꾸기\n",
        "a = int(input())\n",
        "print(a*-1)"
      ],
      "metadata": {
        "colab": {
          "base_uri": "https://localhost:8080/"
        },
        "id": "UqBTxtvxiu8B",
        "outputId": "6045684b-0e02-4c56-a3cb-f12845acc32e"
      },
      "execution_count": null,
      "outputs": [
        {
          "output_type": "stream",
          "name": "stdout",
          "text": [
            "3\n",
            "-3\n"
          ]
        }
      ]
    },
    {
      "cell_type": "code",
      "source": [
        "# 33 : [기초-산술연산] 문자 1개 입력받아 다음 문자 출력하기\n",
        "a = input()\n",
        "b = ord(a)\n",
        "print(chr(b+1))"
      ],
      "metadata": {
        "colab": {
          "base_uri": "https://localhost:8080/"
        },
        "id": "ZbuBV9a8iu-_",
        "outputId": "f9de6c0f-e595-4f3c-c122-ee4402562612"
      },
      "execution_count": null,
      "outputs": [
        {
          "output_type": "stream",
          "name": "stdout",
          "text": [
            "a\n",
            "b\n"
          ]
        }
      ]
    },
    {
      "cell_type": "code",
      "source": [
        "# 34 : [기초-산술연산] 정수 2개 입력받아 차 계산하기\n",
        "a, b = input().split()\n",
        "print((int(b)-int(a))*-1)"
      ],
      "metadata": {
        "colab": {
          "base_uri": "https://localhost:8080/"
        },
        "id": "Ca7DRhqxivA7",
        "outputId": "2e00417a-1ba3-43e7-c7f4-c61a95efd932"
      },
      "execution_count": null,
      "outputs": [
        {
          "output_type": "stream",
          "name": "stdout",
          "text": [
            "123 -123\n",
            "246\n"
          ]
        }
      ]
    },
    {
      "cell_type": "code",
      "source": [
        "# 35 : [기초-산술연산] 실수 2개 입력받아 곱 계산하기\n",
        "a,b = input().split()\n",
        "print(float(a)*float(b))"
      ],
      "metadata": {
        "colab": {
          "base_uri": "https://localhost:8080/"
        },
        "id": "Gsp0X8G3ivDa",
        "outputId": "c28214b8-3c73-49d2-fbbb-cb8613ed1ce3"
      },
      "execution_count": null,
      "outputs": [
        {
          "output_type": "stream",
          "name": "stdout",
          "text": [
            "0.5 2.0\n",
            "1.0\n"
          ]
        }
      ]
    },
    {
      "cell_type": "code",
      "source": [
        "# 6036 : [기초-산술연산] 단어 여러 번 출력하기\n",
        "a,b = input().split()\n",
        "print(a*int(b))"
      ],
      "metadata": {
        "colab": {
          "base_uri": "https://localhost:8080/"
        },
        "id": "xtw92YNomQJQ",
        "outputId": "6a2e5858-b271-4d67-e6c9-0050800ce9ce"
      },
      "execution_count": null,
      "outputs": [
        {
          "output_type": "stream",
          "name": "stdout",
          "text": [
            "love 3\n",
            "lovelovelove\n"
          ]
        }
      ]
    },
    {
      "cell_type": "code",
      "source": [
        "# 37 : [기초-산술연산] 문장 여러 번 출력하기\n",
        "a = int(input())\n",
        "b = input()\n",
        "print(a*b)"
      ],
      "metadata": {
        "colab": {
          "base_uri": "https://localhost:8080/"
        },
        "id": "hDROdp36mQME",
        "outputId": "7c12dc1e-b4b8-4dd4-db70-aac2faa2bd9d"
      },
      "execution_count": null,
      "outputs": [
        {
          "output_type": "stream",
          "name": "stdout",
          "text": [
            "3\n",
            "l i k\n",
            "l i kl i kl i k\n"
          ]
        }
      ]
    },
    {
      "cell_type": "code",
      "source": [
        "# 38 : [기초-산술연산] 정수 2개 입력받아 거듭제곱 계산하기\n",
        "a, b = input().split()\n",
        "print(int(a)**int(b))"
      ],
      "metadata": {
        "colab": {
          "base_uri": "https://localhost:8080/"
        },
        "id": "rrsB-PyumQOS",
        "outputId": "c60556d4-8cb1-47c8-db9f-4405f7a05bbc"
      },
      "execution_count": null,
      "outputs": [
        {
          "output_type": "stream",
          "name": "stdout",
          "text": [
            "2 10\n",
            "1024\n"
          ]
        }
      ]
    },
    {
      "cell_type": "code",
      "source": [
        "# 39 : [기초-산술연산] 실수 2개 입력받아 거듭제곱 계산하기\n",
        "a, b = input().split()\n",
        "print(float(a)**float(b))"
      ],
      "metadata": {
        "id": "js3JSJb77biC",
        "colab": {
          "base_uri": "https://localhost:8080/"
        },
        "outputId": "11768ed4-64ac-471e-99b5-d524be0a0bb5"
      },
      "execution_count": null,
      "outputs": [
        {
          "output_type": "stream",
          "name": "stdout",
          "text": [
            "4.0 2.0\n",
            "16.0\n"
          ]
        }
      ]
    },
    {
      "cell_type": "code",
      "source": [
        "# 40 : [기초-산술연산] 정수 2개 입력받아 나눈 몫 계산하기\n",
        "a, b = input().split()\n",
        "print(int(a)//int(b))"
      ],
      "metadata": {
        "colab": {
          "base_uri": "https://localhost:8080/"
        },
        "id": "GkHWVbkzoLoB",
        "outputId": "eb5e2d2b-320f-4adf-fa46-d9ba1e28d2c0"
      },
      "execution_count": null,
      "outputs": [
        {
          "output_type": "stream",
          "name": "stdout",
          "text": [
            "10 3\n",
            "3\n"
          ]
        }
      ]
    },
    {
      "cell_type": "code",
      "source": [
        "# 41 : [기초-산술연산] 정수 2개 입력받아 나눈 나머지 계산하기\n",
        "a, b = input().split()\n",
        "print(int(a)%int(b))"
      ],
      "metadata": {
        "id": "HhWqYE26opbH",
        "colab": {
          "base_uri": "https://localhost:8080/"
        },
        "outputId": "f587b467-e824-4468-db7c-e65f70ea6a92"
      },
      "execution_count": null,
      "outputs": [
        {
          "output_type": "stream",
          "name": "stdout",
          "text": [
            "10 3\n",
            "1\n"
          ]
        }
      ]
    },
    {
      "cell_type": "markdown",
      "source": [
        "<pre>\n",
        "# 0406\n",
        "### 소숫점\n",
        "round(a, 2)\n",
        "format(:.2f}"
      ],
      "metadata": {
        "id": "2Eev4t-0LeF1"
      }
    },
    {
      "cell_type": "code",
      "source": [
        "# 42 : [기초-값변환] 실수 1개 입력받아 소숫점이하 자리 변환하기\n",
        "a = float(input())\n",
        "print(round(a,2))\n",
        "print(f'{a:.2f}')"
      ],
      "metadata": {
        "colab": {
          "base_uri": "https://localhost:8080/"
        },
        "id": "MNajj8A-JD7s",
        "outputId": "924245b3-82ab-4344-dd79-3afecdeb003c"
      },
      "execution_count": null,
      "outputs": [
        {
          "output_type": "stream",
          "name": "stdout",
          "text": [
            "1.345\n",
            "1.34\n",
            "1.34\n"
          ]
        }
      ]
    },
    {
      "cell_type": "code",
      "source": [
        "# 43 : [기초-산술연산] 실수 2개 입력받아 나눈 결과 계산하기\n",
        "a, b =input().split()\n",
        "print(f'{float(a)/float(b):.3f}')"
      ],
      "metadata": {
        "id": "hoEzelIXJCqs",
        "colab": {
          "base_uri": "https://localhost:8080/"
        },
        "outputId": "05406210-c77f-448f-8e8c-2166b9efd28d"
      },
      "execution_count": null,
      "outputs": [
        {
          "output_type": "stream",
          "name": "stdout",
          "text": [
            "10.0 3.0\n",
            "3.333\n"
          ]
        }
      ]
    },
    {
      "cell_type": "code",
      "source": [
        "# 44 : [기초-산술연산] 정수 2개 입력받아 자동 계산하기\n",
        "a,b = map(int, input().split())\n",
        "print(a+b)\n",
        "print(a-b)\n",
        "print(a*b)\n",
        "print(a%b)\n",
        "print(round(a/b,2))"
      ],
      "metadata": {
        "id": "xDvpHzo1bDRL",
        "colab": {
          "base_uri": "https://localhost:8080/"
        },
        "outputId": "7aeaae9e-68cb-4f94-9437-680c7b95f2a2"
      },
      "execution_count": null,
      "outputs": [
        {
          "output_type": "stream",
          "name": "stdout",
          "text": [
            "10 3\n",
            "13\n",
            "7\n",
            "30\n",
            "1\n",
            "3.33\n"
          ]
        }
      ]
    },
    {
      "cell_type": "code",
      "source": [
        "# 45 : [기초-산술연산] 정수 3개 입력받아 합과 평균 출력하기\n",
        "a,b,c = map(int, input().split())\n",
        "d = a+b+c\n",
        "print(f'{d} {d/3:.2f}')"
      ],
      "metadata": {
        "colab": {
          "base_uri": "https://localhost:8080/"
        },
        "id": "FRFmKnUVVKqf",
        "outputId": "f65229fb-9ab4-43ba-d93d-fe40767b8a99"
      },
      "execution_count": null,
      "outputs": [
        {
          "output_type": "stream",
          "name": "stdout",
          "text": [
            "1 2 3\n",
            "6 2.00\n"
          ]
        }
      ]
    },
    {
      "cell_type": "markdown",
      "source": [
        "<pre>\n",
        "2비트<br>\n",
        "*2 를 계산한 값을 출력해도 되지만,\n",
        "정수를 2배로 곱하거나 나누어 계산해 주는 비트단위시프트연산자 <<, >>를 이용할 수 있다.\n",
        "컴퓨터 내부에는 2진수 형태로 값들이 저장되기 때문에,\n",
        "2진수 형태로 저장되어 있는 값들을 왼쪽(<<)이나 오른쪽(>>)으로\n",
        "지정한 비트 수만큼 밀어주면 2배씩 늘어나거나 1/2로 줄어드는데,\n",
        "\n",
        "왼쪽 비트시프트(<<)가 될 때에는 오른쪽에 0이 주어진 개수만큼 추가되고,\n",
        "오른쪽 비트시프트(>>)가 될 때에는 왼쪽에 0(0 또는 양의 정수인 경우)이나 1(음의 정수인 경우)이 개수만큼 추가되고,\n",
        "가장 오른쪽에 있는 1비트는 사라진다.\n",
        "\n",
        "\n",
        "예시\n",
        "a = 2\n",
        "b = 10\n",
        "print(a << b)  #210 = 1024 가 출력된다.\n",
        "\n",
        "\n",
        "** 비트단위(bitwise)연산자는,\n",
        "~(bitwise not), &(bitwise and), |(bitwise or), ^(bitwise xor),\n",
        "<<(bitwise left shift), >>(bitwise right shift)\n",
        "\n",
        "불(bool) 자료형이란 참(True)과 거짓(False)을 나타내는 자료형이다. 불 자료형은 다음 2가지 값만을 가질 수 있다.\n",
        "\n",
        "True - 참\n",
        "False - 거짓"
      ],
      "metadata": {
        "id": "4X4_dLRcYpXV"
      }
    },
    {
      "cell_type": "code",
      "source": [
        "# 46 : [기초-비트시프트연산] 정수 1개 입력받아 2배 곱해 출력하기\n",
        "a = int(input())\n",
        "print(a<<1)"
      ],
      "metadata": {
        "colab": {
          "base_uri": "https://localhost:8080/"
        },
        "id": "OpcjQE-uXNYA",
        "outputId": "6d6a509a-8341-4159-8721-87a7db63b14f"
      },
      "execution_count": null,
      "outputs": [
        {
          "output_type": "stream",
          "name": "stdout",
          "text": [
            "1024\n",
            "2048\n"
          ]
        }
      ]
    },
    {
      "cell_type": "code",
      "source": [
        "# 47 : [기초-비트시프트연산] 2의 거듭제곱 배로 곱해 출력하기\n",
        "a,b = map(int,input().split())\n",
        "print(a<<b)"
      ],
      "metadata": {
        "colab": {
          "base_uri": "https://localhost:8080/"
        },
        "id": "QYt4R6fAYxwB",
        "outputId": "ea8177d2-db04-40c2-de82-20471335b158"
      },
      "execution_count": null,
      "outputs": [
        {
          "output_type": "stream",
          "name": "stdout",
          "text": [
            "1 3\n",
            "8\n"
          ]
        }
      ]
    },
    {
      "cell_type": "code",
      "source": [
        "# 48 : [기초-비교연산] 정수 2개 입력받아 비교하기1\n",
        "a, b = map(int, input().split())\n",
        "print(a<b)"
      ],
      "metadata": {
        "colab": {
          "base_uri": "https://localhost:8080/"
        },
        "id": "7OWFjjuiYxx9",
        "outputId": "38137c48-5266-4e3e-c564-b4f6ed75eb59"
      },
      "execution_count": null,
      "outputs": [
        {
          "output_type": "stream",
          "name": "stdout",
          "text": [
            "1 9\n",
            "True\n"
          ]
        }
      ]
    },
    {
      "cell_type": "code",
      "source": [
        "#49 [기초-비교연산] 정수 2개 입력받아 비교하기2\n",
        "a, b = map(int, input().split())\n",
        "if a == b:\n",
        "  print(True)\n",
        "else:\n",
        "  print(False)"
      ],
      "metadata": {
        "colab": {
          "base_uri": "https://localhost:8080/"
        },
        "id": "MsgHaS2QYx7N",
        "outputId": "fdc313c2-bce1-4bfb-d5cf-bf4ede17792c"
      },
      "execution_count": null,
      "outputs": [
        {
          "output_type": "stream",
          "name": "stdout",
          "text": [
            "0 0\n",
            "True\n"
          ]
        }
      ]
    },
    {
      "cell_type": "code",
      "source": [
        "# 50 : [기초-비교연산] 정수 2개 입력받아 비교하기3\n",
        "a, b = map(int, input().split())\n",
        "print(a<=b)"
      ],
      "metadata": {
        "colab": {
          "base_uri": "https://localhost:8080/"
        },
        "id": "Ytqcl_xrYx90",
        "outputId": "7da73e3d-0e88-46f4-c96f-b36eb6559c3d"
      },
      "execution_count": null,
      "outputs": [
        {
          "output_type": "stream",
          "name": "stdout",
          "text": [
            "0 -1\n",
            "False\n"
          ]
        }
      ]
    },
    {
      "cell_type": "code",
      "source": [
        "# 51 : [기초-비교연산] 정수 2개 입력받아 비교하기4\n",
        "a, b = map(int, input().split())\n",
        "print(a != b)"
      ],
      "metadata": {
        "colab": {
          "base_uri": "https://localhost:8080/"
        },
        "id": "HOtL5W7jYx_6",
        "outputId": "f110e490-3685-476f-8019-e6670e5b7422"
      },
      "execution_count": null,
      "outputs": [
        {
          "output_type": "stream",
          "name": "stdout",
          "text": [
            "0 1\n",
            "True\n"
          ]
        }
      ]
    },
    {
      "cell_type": "code",
      "source": [
        "# 52 : [기초-논리연산] 정수 입력받아 참 거짓 평가하기\n",
        "a = int(input())\n",
        "print(bool(a))"
      ],
      "metadata": {
        "colab": {
          "base_uri": "https://localhost:8080/"
        },
        "id": "HIs5YdDca2eJ",
        "outputId": "be92c931-bb74-45f6-fcaf-535f1fe8408b"
      },
      "execution_count": null,
      "outputs": [
        {
          "output_type": "stream",
          "name": "stdout",
          "text": [
            "0\n",
            "False\n"
          ]
        }
      ]
    },
    {
      "cell_type": "code",
      "source": [
        "# 53 : [기초-논리연산] 참 거짓 바꾸기\n",
        "a = bool(int(input()))\n",
        "print(not a)"
      ],
      "metadata": {
        "colab": {
          "base_uri": "https://localhost:8080/"
        },
        "id": "nzXKMPOWbIZY",
        "outputId": "08c46dd3-5902-4913-9ce2-01a81a579580"
      },
      "execution_count": null,
      "outputs": [
        {
          "output_type": "stream",
          "name": "stdout",
          "text": [
            "1\n",
            "False\n"
          ]
        }
      ]
    },
    {
      "cell_type": "code",
      "source": [
        "# 54 : [기초-논리연산] 둘 다 참일 경우만 참 출력하기\n",
        "a, b = map(int, input().split())\n",
        "print(bool(a) == bool(b)) # ==, and"
      ],
      "metadata": {
        "colab": {
          "base_uri": "https://localhost:8080/"
        },
        "id": "yOG__nxabIcH",
        "outputId": "abed7909-c4fc-47d4-ceb5-81b3c1298326"
      },
      "execution_count": null,
      "outputs": [
        {
          "output_type": "stream",
          "name": "stdout",
          "text": [
            "1 1\n",
            "True\n"
          ]
        }
      ]
    },
    {
      "cell_type": "code",
      "source": [
        "# 55 : [기초-논리연산] 하나라도 참이면 참 출력하기\n",
        "a, b = map(int, input().split())\n",
        "print(bool(a) & bool(b)) # & or"
      ],
      "metadata": {
        "colab": {
          "base_uri": "https://localhost:8080/"
        },
        "id": "jNkuTAK9a2gv",
        "outputId": "c1aa1c03-6aaf-4765-970f-35f9518db007"
      },
      "execution_count": null,
      "outputs": [
        {
          "output_type": "stream",
          "name": "stdout",
          "text": [
            "1 1\n",
            "True\n"
          ]
        }
      ]
    },
    {
      "cell_type": "code",
      "source": [
        "# 56 : [기초-논리연산] 참/거짓이 서로 다를 때에만 참 출력하기\n",
        "a, b = map(int, input().split())\n",
        "print(bool(a) and (not bool(b)) or bool(b) and (not(bool(a))))"
      ],
      "metadata": {
        "colab": {
          "base_uri": "https://localhost:8080/"
        },
        "id": "5T4TWB5Ea2jX",
        "outputId": "1688ef3a-d77f-489a-aced-492e6ac5e0ea"
      },
      "execution_count": null,
      "outputs": [
        {
          "output_type": "stream",
          "name": "stdout",
          "text": [
            "1 1\n",
            "False\n"
          ]
        }
      ]
    },
    {
      "cell_type": "code",
      "source": [
        "# 57 : [기초-논리연산] 참/거짓이 서로 같을 때에만 참 출력하기\n",
        "a, b = map(int, input().split())\n",
        "print(bool(a) == bool(b))"
      ],
      "metadata": {
        "colab": {
          "base_uri": "https://localhost:8080/"
        },
        "id": "h7b3iR9sYWBD",
        "outputId": "36c08bae-d81a-43de-d342-e024e399d451"
      },
      "execution_count": null,
      "outputs": [
        {
          "output_type": "stream",
          "name": "stdout",
          "text": [
            "1 1\n",
            "True\n"
          ]
        }
      ]
    },
    {
      "cell_type": "code",
      "source": [
        "# 58 : [기초-논리연산] 둘 다 거짓일 경우만 참 출력하기\n",
        "a, b = map(int, input().split())\n",
        "print(not (a or b)) # not a and not b = not (a or b)"
      ],
      "metadata": {
        "colab": {
          "base_uri": "https://localhost:8080/"
        },
        "id": "X5DpcA1FeiqA",
        "outputId": "fc40262b-0df3-4101-b8ad-a2f335cbd023"
      },
      "execution_count": null,
      "outputs": [
        {
          "output_type": "stream",
          "name": "stdout",
          "text": [
            "0 0\n",
            "True\n"
          ]
        }
      ]
    },
    {
      "cell_type": "code",
      "source": [
        "# 59 : [기초-비트단위논리연산] 비트단위로 NOT 하여 출력하기\n",
        "# ~n = -n -1\n",
        "# -n = ~n + 1\n",
        "a = int(input())\n",
        "print(~a)"
      ],
      "metadata": {
        "colab": {
          "base_uri": "https://localhost:8080/"
        },
        "id": "cZlnAXlJfdh-",
        "outputId": "2df78796-b975-4a81-f9c6-523ac6f90e9f"
      },
      "execution_count": null,
      "outputs": [
        {
          "output_type": "stream",
          "name": "stdout",
          "text": [
            "2\n",
            "-3\n"
          ]
        }
      ]
    },
    {
      "cell_type": "code",
      "source": [
        "# 60 : [기초-비트단위논리연산] 비트단위로 AND 하여 출력하기\n",
        "a, b = map(int, input().split())\n",
        "print(a&b)"
      ],
      "metadata": {
        "colab": {
          "base_uri": "https://localhost:8080/"
        },
        "id": "rVJtL2vYfsYE",
        "outputId": "d29e081c-db67-4c92-895f-a8b2218dcaa0"
      },
      "execution_count": null,
      "outputs": [
        {
          "output_type": "stream",
          "name": "stdout",
          "text": [
            "3 5\n",
            "1\n"
          ]
        }
      ]
    },
    {
      "cell_type": "code",
      "source": [
        "# 61 : [기초-비트단위논리연산] 비트단위로 OR 하여 출력하기\n",
        "a, b = map(int, input().split())\n",
        "print(a | b)"
      ],
      "metadata": {
        "colab": {
          "base_uri": "https://localhost:8080/"
        },
        "id": "javfMKVhfsam",
        "outputId": "505f0b0a-4435-43da-9347-c760cab475b7"
      },
      "execution_count": null,
      "outputs": [
        {
          "output_type": "stream",
          "name": "stdout",
          "text": [
            "3 5\n",
            "7\n"
          ]
        }
      ]
    },
    {
      "cell_type": "code",
      "source": [
        "# 62 : [기초-비트단위논리연산] 비트단위로 XOR 하여 출력하기\n",
        "a, b = map(int, input().split())\n",
        "print(a ^ b)"
      ],
      "metadata": {
        "colab": {
          "base_uri": "https://localhost:8080/"
        },
        "id": "OMRRBek-hFQk",
        "outputId": "9432dc45-49d2-47ca-c532-8c729e7468af"
      },
      "execution_count": null,
      "outputs": [
        {
          "output_type": "stream",
          "name": "stdout",
          "text": [
            "3 5\n",
            "6\n"
          ]
        }
      ]
    },
    {
      "cell_type": "markdown",
      "source": [
        "3개의 요소로 이루어지는 3항 연산은\n",
        "\"x if C else y\" 의 형태로 작성이 된다. <br>\n",
        "- C : True 또는 False 를 평가할 조건식(conditional expression) 또는 값\n",
        "- x : C의 평가 결과가 True 일 때 사용할 값\n",
        "- y : C의 평가 결과가 True 가 아닐 때 사용할 값"
      ],
      "metadata": {
        "id": "u-aBtto2id4t"
      }
    },
    {
      "cell_type": "code",
      "source": [
        "# 63 : [기초-3항연산] 정수 2개 입력받아 큰 값 출력하기\n",
        "a, b = map(int, input().split())\n",
        "if a > b:\n",
        "  print(a)\n",
        "elif b > a:\n",
        "  print(b)\n",
        "# c = a if a >= b else b \n",
        "# print(c)"
      ],
      "metadata": {
        "colab": {
          "base_uri": "https://localhost:8080/"
        },
        "id": "3jxLUdvohctV",
        "outputId": "1dcf682c-6d12-454c-daa1-e2ed255bb305"
      },
      "execution_count": null,
      "outputs": [
        {
          "output_type": "stream",
          "name": "stdout",
          "text": [
            "123 456\n",
            "456\n"
          ]
        }
      ]
    },
    {
      "cell_type": "code",
      "source": [
        "# 64 : [기초-3항연산] 정수 3개 입력받아 가장 작은 값 출력하기\n",
        "a,b,c  = map(int, input().split())\n",
        "# d = a if a<b else b \n",
        "# e = d if d<c else c\n",
        "if a < b and a < c:\n",
        "  print(a)\n",
        "if b < a and b < c:\n",
        "  print(b)\n",
        "if c < a and c < b:\n",
        "  print(c)\n",
        "print(min(a,b,c))"
      ],
      "metadata": {
        "colab": {
          "base_uri": "https://localhost:8080/"
        },
        "id": "MZYlwFWtiCsP",
        "outputId": "970c1e92-4e15-4b2f-aaca-e760d1eb09e0"
      },
      "execution_count": null,
      "outputs": [
        {
          "output_type": "stream",
          "name": "stdout",
          "text": [
            "3 -1 5\n",
            "-1\n",
            "-1\n"
          ]
        }
      ]
    },
    {
      "cell_type": "code",
      "source": [
        "# 65 : [기초-조건/선택실행구조] 정수 3개 입력받아 짝수만 출력하기\n",
        "a,b,c, = map(int, input().split())\n",
        "if a % 2 == 0:\n",
        "  print(a)\n",
        "elif b % 2 == 0:\n",
        "  print(b)\n",
        "else:\n",
        "  print(c)"
      ],
      "metadata": {
        "id": "dsu67ybJiqHc"
      },
      "execution_count": null,
      "outputs": []
    },
    {
      "cell_type": "code",
      "source": [
        ""
      ],
      "metadata": {
        "id": "hEv8B1ehiqJl"
      },
      "execution_count": null,
      "outputs": []
    },
    {
      "cell_type": "code",
      "source": [
        ""
      ],
      "metadata": {
        "id": "KU-MbzcyiqMV"
      },
      "execution_count": null,
      "outputs": []
    }
  ]
}
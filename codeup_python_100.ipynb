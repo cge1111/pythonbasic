{
  "nbformat": 4,
  "nbformat_minor": 0,
  "metadata": {
    "colab": {
      "name": "codeup_python_100.ipynb",
      "provenance": [],
      "collapsed_sections": [],
      "authorship_tag": "ABX9TyPzEweTXCVWbb0WvEIY1PpL",
      "include_colab_link": true
    },
    "kernelspec": {
      "name": "python3",
      "display_name": "Python 3"
    },
    "language_info": {
      "name": "python"
    }
  },
  "cells": [
    {
      "cell_type": "markdown",
      "metadata": {
        "id": "view-in-github",
        "colab_type": "text"
      },
      "source": [
        "<a href=\"https://colab.research.google.com/github/cge1111/pythonbasic/blob/main/codeup_python_100.ipynb\" target=\"_parent\"><img src=\"https://colab.research.google.com/assets/colab-badge.svg\" alt=\"Open In Colab\"/></a>"
      ]
    },
    {
      "cell_type": "code",
      "execution_count": null,
      "metadata": {
        "colab": {
          "base_uri": "https://localhost:8080/"
        },
        "id": "clen4wpeYlYv",
        "outputId": "f9b7f1ef-fec9-4d67-cc41-389a95f09aa7"
      },
      "outputs": [
        {
          "output_type": "stream",
          "name": "stdout",
          "text": [
            "\"!@#$%^&*()'\n"
          ]
        }
      ],
      "source": [
        "print(\"\\\"!@#$%^&*()'\")\n",
        "\n",
        "# 출력 형식에 필요한 따옴표와 출력할 문자인 따옴표를 구분하기 위하여 \\\" 또는 \\' 를 이용하여 출력할 수 있다."
      ]
    },
    {
      "cell_type": "code",
      "source": [
        "a = float(input())\n",
        "for i in range(3):\n",
        "  print(a)\n"
      ],
      "metadata": {
        "colab": {
          "base_uri": "https://localhost:8080/"
        },
        "id": "mGxJ8ja2_mdJ",
        "outputId": "e6a9e331-f4e7-44c4-f9db-668d95259a7f"
      },
      "execution_count": null,
      "outputs": [
        {
          "output_type": "stream",
          "name": "stdout",
          "text": [
            "0.1\n",
            "0.1\n",
            "0.1\n",
            "0.1\n"
          ]
        }
      ]
    },
    {
      "cell_type": "code",
      "source": [
        "print(\"\\\"C:\\\\Download\\\\\\'hello'.py\\\"\")"
      ],
      "metadata": {
        "colab": {
          "base_uri": "https://localhost:8080/"
        },
        "id": "4kHFKsc1YsA-",
        "outputId": "3f54fcfa-5f13-4e14-e92d-767c87837f03"
      },
      "execution_count": null,
      "outputs": [
        {
          "output_type": "stream",
          "name": "stdout",
          "text": [
            "\"C:\\Download\\'hello'.py\"\n"
          ]
        }
      ]
    },
    {
      "cell_type": "code",
      "source": [
        "# 15\n",
        "a,b = map(int, input().split())\n",
        "print(f'{a}\\n{b}')\n",
        "\n",
        "c, d = input().split()\n",
        "print(c)\n",
        "print(d)"
      ],
      "metadata": {
        "colab": {
          "base_uri": "https://localhost:8080/"
        },
        "id": "jWGls5W5Army",
        "outputId": "b0bd4aba-3c2d-4283-a305-248968acb869"
      },
      "execution_count": null,
      "outputs": [
        {
          "output_type": "stream",
          "name": "stdout",
          "text": [
            "1 2\n",
            "1\n",
            "2\n",
            "1 2\n",
            "1\n",
            "2\n"
          ]
        }
      ]
    },
    {
      "cell_type": "code",
      "source": [
        "# 16\n",
        "a, b = input().split()\n",
        "print(f'{b}\\n{a}')"
      ],
      "metadata": {
        "colab": {
          "base_uri": "https://localhost:8080/"
        },
        "id": "Io2LH4gbCvsC",
        "outputId": "a5345eb2-1b35-4e38-f0ce-70424aee3da3"
      },
      "execution_count": null,
      "outputs": [
        {
          "output_type": "stream",
          "name": "stdout",
          "text": [
            "a b\n",
            "b\n",
            "a\n"
          ]
        }
      ]
    },
    {
      "cell_type": "code",
      "source": [
        "# 17\n",
        "a = input()\n",
        "for i in range(3):\n",
        "  print(a, end=' ')"
      ],
      "metadata": {
        "colab": {
          "base_uri": "https://localhost:8080/"
        },
        "id": "5WvBRzUeCwFN",
        "outputId": "ecd23b32-ccfe-47bc-ca84-f471ec1691f7"
      },
      "execution_count": null,
      "outputs": [
        {
          "output_type": "stream",
          "name": "stdout",
          "text": [
            "a b\n",
            "a b a b a b "
          ]
        }
      ]
    },
    {
      "cell_type": "code",
      "source": [
        "# 18 시간 입력받아 그대로 출력하기\n",
        "a, b = input().split(':')\n",
        "print(a, b, sep = ':')\n"
      ],
      "metadata": {
        "colab": {
          "base_uri": "https://localhost:8080/"
        },
        "id": "Ejf6VcX-Dn1-",
        "outputId": "9d0ebf7c-1cf6-4548-e091-13834f7e2157"
      },
      "execution_count": null,
      "outputs": [
        {
          "output_type": "stream",
          "name": "stdout",
          "text": [
            "2:16\n",
            "2:16\n"
          ]
        }
      ]
    },
    {
      "cell_type": "code",
      "source": [
        "# 19.[기초-입출력] 연월일 입력받아 순서 바꿔 출력하기\n",
        "y,m,d = input().split('.')\n",
        "print(d,m,y,sep=\"-\")"
      ],
      "metadata": {
        "colab": {
          "base_uri": "https://localhost:8080/"
        },
        "id": "zHDmNo_LDn4a",
        "outputId": "638259c5-4b75-4f60-aae8-6b86de0d3bd5"
      },
      "execution_count": null,
      "outputs": [
        {
          "output_type": "stream",
          "name": "stdout",
          "text": [
            "2020.3.4\n",
            "4-3-2020\n"
          ]
        }
      ]
    },
    {
      "cell_type": "code",
      "source": [
        "# 20 : [기초-입출력] 주민번호 입력받아 형태 바꿔 출력하기\n",
        "a, b = input().split('-')\n",
        "print(f'{a}{b}')\n",
        "print(a+b)"
      ],
      "metadata": {
        "colab": {
          "base_uri": "https://localhost:8080/"
        },
        "id": "sUAi9rQCDn8b",
        "outputId": "60cb3338-da22-4579-e338-31d31a30ebad"
      },
      "execution_count": null,
      "outputs": [
        {
          "output_type": "stream",
          "name": "stdout",
          "text": [
            "00-00\n",
            "0000\n",
            "0000\n"
          ]
        }
      ]
    },
    {
      "cell_type": "code",
      "source": [
        "# 21 : [기초-입출력] 단어 1개 입력받아 나누어 출력하기(설명)\n",
        "a = input()\n",
        "for i in a:\n",
        "  print(i)"
      ],
      "metadata": {
        "id": "NwMmiI1PDn_B",
        "colab": {
          "base_uri": "https://localhost:8080/"
        },
        "outputId": "48b59970-f81f-4789-b303-7303a60fb9ec"
      },
      "execution_count": null,
      "outputs": [
        {
          "output_type": "stream",
          "name": "stdout",
          "text": [
            "Hello\n",
            "H\n",
            "e\n",
            "l\n",
            "l\n",
            "o\n"
          ]
        }
      ]
    },
    {
      "cell_type": "code",
      "source": [
        "# 22 : [기초-입출력] 연월일 입력받아 나누어 출력하기\n",
        "s = input()\n",
        "print(s[0:2], s[2:4], s[4:])"
      ],
      "metadata": {
        "colab": {
          "base_uri": "https://localhost:8080/"
        },
        "id": "5OArkzuzDK1b",
        "outputId": "09dbc27a-1b32-4b21-deae-65c226c452b8"
      },
      "execution_count": null,
      "outputs": [
        {
          "output_type": "stream",
          "name": "stdout",
          "text": [
            "200304\n",
            "20 03 04\n"
          ]
        }
      ]
    },
    {
      "cell_type": "code",
      "source": [
        "a = input().split(':')\n",
        "print(a[1])"
      ],
      "metadata": {
        "id": "dOJ8KlctABq3",
        "colab": {
          "base_uri": "https://localhost:8080/"
        },
        "outputId": "d3016078-2ba0-4dce-bb42-dccde93d3d55"
      },
      "execution_count": null,
      "outputs": [
        {
          "output_type": "stream",
          "name": "stdout",
          "text": [
            "17:23:57\n",
            "23\n"
          ]
        }
      ]
    },
    {
      "cell_type": "code",
      "source": [
        "# 24 : [기초-입출력] 단어 2개 입력받아 이어 붙이기(설명)\n",
        "a, b = input().split()\n",
        "print(a+b)"
      ],
      "metadata": {
        "id": "fXmx8aJx-thN",
        "colab": {
          "base_uri": "https://localhost:8080/"
        },
        "outputId": "f66be0a6-4d17-4a65-eb35-36438d50ae19"
      },
      "execution_count": null,
      "outputs": [
        {
          "output_type": "stream",
          "name": "stdout",
          "text": [
            "hello world\n",
            "helloworld\n"
          ]
        }
      ]
    },
    {
      "cell_type": "code",
      "source": [
        "# 25 : [기초-값변환] 정수 2개 입력받아 합 계산하기\n",
        "a, b = input().split()\n",
        "print(int(a)+int(b))"
      ],
      "metadata": {
        "id": "Twpkc0jn-t7X",
        "colab": {
          "base_uri": "https://localhost:8080/"
        },
        "outputId": "7fedc1ac-5c44-4c40-90a1-5d0531f522a9"
      },
      "execution_count": null,
      "outputs": [
        {
          "output_type": "stream",
          "name": "stdout",
          "text": [
            "123 -123\n",
            "0\n"
          ]
        }
      ]
    },
    {
      "cell_type": "markdown",
      "source": [
        "\n",
        "### 10진수 -> 16진수 = '%x(소문자)\n",
        "### 10진수 -> 16진수 = '%x(대문자)\n",
        "### 16진수 -> 8진수 = '%o\n",
        "16진수(hexadecimal)\n",
        "8진수(octal)\n",
        "### 영문자 -> 10진수 = 유니코드 (ord)\n",
        "### 10진수 -> 영문자 = 유니코드 (chr)\n",
        "\n",
        "a -> b 오는 코드 = ord -> chr\n",
        "\n",
        "### map은 리스트에만!\n"
      ],
      "metadata": {
        "id": "mlDO_r6UhjPH"
      }
    },
    {
      "cell_type": "code",
      "source": [
        "# 27 : [기초-출력변환] 10진 정수 입력받아 16진수로 출력하기1\n",
        "a = int(input())\n",
        "print('%x'%a)"
      ],
      "metadata": {
        "id": "2LnLE8Ud7a3A",
        "colab": {
          "base_uri": "https://localhost:8080/"
        },
        "outputId": "65cef486-d1b1-4cfc-f83b-8923e82cbe96"
      },
      "execution_count": null,
      "outputs": [
        {
          "output_type": "stream",
          "name": "stdout",
          "text": [
            "255\n",
            "ff\n"
          ]
        }
      ]
    },
    {
      "cell_type": "code",
      "source": [
        "# 28 : [기초-출력변환] 10진 정수 입력받아 16진수로 출력하기2\n",
        "a = int(input())\n",
        "print('%X'%a)"
      ],
      "metadata": {
        "id": "rWIz15Pm7bOu",
        "colab": {
          "base_uri": "https://localhost:8080/"
        },
        "outputId": "ab85f4d1-5c86-496d-942b-c25fd92a20a3"
      },
      "execution_count": null,
      "outputs": [
        {
          "output_type": "stream",
          "name": "stdout",
          "text": [
            "255\n",
            "FF\n"
          ]
        }
      ]
    },
    {
      "cell_type": "code",
      "source": [
        "# 6029 : [기초-값변환] 16진 정수 입력받아 8진수로 출력하기\n",
        "a = int(input(),16)\n",
        "print('%o'%a)"
      ],
      "metadata": {
        "id": "oX9Uq9hf7bXf",
        "colab": {
          "base_uri": "https://localhost:8080/"
        },
        "outputId": "65820561-3704-4d70-c90a-7f79dccda7b9"
      },
      "execution_count": null,
      "outputs": [
        {
          "output_type": "stream",
          "name": "stdout",
          "text": [
            "f\n",
            "17\n"
          ]
        }
      ]
    },
    {
      "cell_type": "code",
      "source": [
        "# 6030 : [기초-값변환] 영문자 1개 입력받아 10진수로 변환하기\n",
        "s = input()\n",
        "print(ord(s))"
      ],
      "metadata": {
        "id": "WPOcvvWN7bdb",
        "colab": {
          "base_uri": "https://localhost:8080/"
        },
        "outputId": "3c9d6973-6f06-4e96-ac58-684f6ed05c92"
      },
      "execution_count": null,
      "outputs": [
        {
          "output_type": "stream",
          "name": "stdout",
          "text": [
            "d\n",
            "100\n"
          ]
        }
      ]
    },
    {
      "cell_type": "code",
      "source": [
        "# 6031 : [기초-값변환] 정수 입력받아 유니코드 문자로 변환하기\n",
        "a = int(input())\n",
        "print(chr(a))"
      ],
      "metadata": {
        "colab": {
          "base_uri": "https://localhost:8080/"
        },
        "id": "KEZ_UasniunI",
        "outputId": "c49c91af-460f-44c0-ada7-2e94b1f8b825"
      },
      "execution_count": null,
      "outputs": [
        {
          "output_type": "stream",
          "name": "stdout",
          "text": [
            "65\n",
            "A\n"
          ]
        }
      ]
    },
    {
      "cell_type": "code",
      "source": [
        "# 6032 : [기초-산술연산] 정수 1개 입력받아 부호 바꾸기\n",
        "a = int(input())\n",
        "print(a*-1)"
      ],
      "metadata": {
        "colab": {
          "base_uri": "https://localhost:8080/"
        },
        "id": "UqBTxtvxiu8B",
        "outputId": "6045684b-0e02-4c56-a3cb-f12845acc32e"
      },
      "execution_count": null,
      "outputs": [
        {
          "output_type": "stream",
          "name": "stdout",
          "text": [
            "3\n",
            "-3\n"
          ]
        }
      ]
    },
    {
      "cell_type": "code",
      "source": [
        "# 6033 : [기초-산술연산] 문자 1개 입력받아 다음 문자 출력하기\n",
        "a = input()\n",
        "b = ord(a)\n",
        "print(chr(b+1))"
      ],
      "metadata": {
        "colab": {
          "base_uri": "https://localhost:8080/"
        },
        "id": "ZbuBV9a8iu-_",
        "outputId": "f9de6c0f-e595-4f3c-c122-ee4402562612"
      },
      "execution_count": null,
      "outputs": [
        {
          "output_type": "stream",
          "name": "stdout",
          "text": [
            "a\n",
            "b\n"
          ]
        }
      ]
    },
    {
      "cell_type": "code",
      "source": [
        "# 6034 : [기초-산술연산] 정수 2개 입력받아 차 계산하기\n",
        "a, b = input().split()\n",
        "print((int(b)-int(a))*-1)"
      ],
      "metadata": {
        "colab": {
          "base_uri": "https://localhost:8080/"
        },
        "id": "Ca7DRhqxivA7",
        "outputId": "2e00417a-1ba3-43e7-c7f4-c61a95efd932"
      },
      "execution_count": null,
      "outputs": [
        {
          "output_type": "stream",
          "name": "stdout",
          "text": [
            "123 -123\n",
            "246\n"
          ]
        }
      ]
    },
    {
      "cell_type": "code",
      "source": [
        "# 6035 : [기초-산술연산] 실수 2개 입력받아 곱 계산하기\n",
        "a,b = input().split()\n",
        "print(float(a)*float(b))"
      ],
      "metadata": {
        "colab": {
          "base_uri": "https://localhost:8080/"
        },
        "id": "Gsp0X8G3ivDa",
        "outputId": "c28214b8-3c73-49d2-fbbb-cb8613ed1ce3"
      },
      "execution_count": null,
      "outputs": [
        {
          "output_type": "stream",
          "name": "stdout",
          "text": [
            "0.5 2.0\n",
            "1.0\n"
          ]
        }
      ]
    },
    {
      "cell_type": "code",
      "source": [
        "# 6036 : [기초-산술연산] 단어 여러 번 출력하기\n",
        "a,b = input().split()\n",
        "print(a*int(b))"
      ],
      "metadata": {
        "colab": {
          "base_uri": "https://localhost:8080/"
        },
        "id": "xtw92YNomQJQ",
        "outputId": "6a2e5858-b271-4d67-e6c9-0050800ce9ce"
      },
      "execution_count": null,
      "outputs": [
        {
          "output_type": "stream",
          "name": "stdout",
          "text": [
            "love 3\n",
            "lovelovelove\n"
          ]
        }
      ]
    },
    {
      "cell_type": "code",
      "source": [
        "# 6037 : [기초-산술연산] 문장 여러 번 출력하기\n",
        "a = int(input())\n",
        "b = input()\n",
        "print(a*b)"
      ],
      "metadata": {
        "colab": {
          "base_uri": "https://localhost:8080/"
        },
        "id": "hDROdp36mQME",
        "outputId": "7c12dc1e-b4b8-4dd4-db70-aac2faa2bd9d"
      },
      "execution_count": null,
      "outputs": [
        {
          "output_type": "stream",
          "name": "stdout",
          "text": [
            "3\n",
            "l i k\n",
            "l i kl i kl i k\n"
          ]
        }
      ]
    },
    {
      "cell_type": "code",
      "source": [
        "# 6038 : [기초-산술연산] 정수 2개 입력받아 거듭제곱 계산하기\n",
        "a, b = input().split()\n",
        "print(int(a)**int(b))"
      ],
      "metadata": {
        "colab": {
          "base_uri": "https://localhost:8080/"
        },
        "id": "rrsB-PyumQOS",
        "outputId": "c60556d4-8cb1-47c8-db9f-4405f7a05bbc"
      },
      "execution_count": null,
      "outputs": [
        {
          "output_type": "stream",
          "name": "stdout",
          "text": [
            "2 10\n",
            "1024\n"
          ]
        }
      ]
    },
    {
      "cell_type": "code",
      "source": [
        "# 6039 : [기초-산술연산] 실수 2개 입력받아 거듭제곱 계산하기\n",
        "a, b = input().split()\n",
        "print(float(a)**float(b))"
      ],
      "metadata": {
        "id": "js3JSJb77biC",
        "colab": {
          "base_uri": "https://localhost:8080/"
        },
        "outputId": "11768ed4-64ac-471e-99b5-d524be0a0bb5"
      },
      "execution_count": null,
      "outputs": [
        {
          "output_type": "stream",
          "name": "stdout",
          "text": [
            "4.0 2.0\n",
            "16.0\n"
          ]
        }
      ]
    },
    {
      "cell_type": "code",
      "source": [
        "# 6040 : [기초-산술연산] 정수 2개 입력받아 나눈 몫 계산하기\n",
        "a, b = input().split()\n",
        "print(int(a)//int(b))"
      ],
      "metadata": {
        "colab": {
          "base_uri": "https://localhost:8080/"
        },
        "id": "GkHWVbkzoLoB",
        "outputId": "eb5e2d2b-320f-4adf-fa46-d9ba1e28d2c0"
      },
      "execution_count": null,
      "outputs": [
        {
          "output_type": "stream",
          "name": "stdout",
          "text": [
            "10 3\n",
            "3\n"
          ]
        }
      ]
    },
    {
      "cell_type": "code",
      "source": [
        "# 6041 : [기초-산술연산] 정수 2개 입력받아 나눈 나머지 계산하기\n",
        "a, b = input().split()\n",
        "print(int(a)%int(b))"
      ],
      "metadata": {
        "id": "HhWqYE26opbH",
        "colab": {
          "base_uri": "https://localhost:8080/"
        },
        "outputId": "f587b467-e824-4468-db7c-e65f70ea6a92"
      },
      "execution_count": null,
      "outputs": [
        {
          "output_type": "stream",
          "name": "stdout",
          "text": [
            "10 3\n",
            "1\n"
          ]
        }
      ]
    },
    {
      "cell_type": "markdown",
      "source": [
        "<pre>\n",
        "# 0406\n",
        "### 소숫점\n",
        "round(a, 2)\n",
        "format(:.2f}"
      ],
      "metadata": {
        "id": "2Eev4t-0LeF1"
      }
    },
    {
      "cell_type": "code",
      "source": [
        "# 6042 : [기초-값변환] 실수 1개 입력받아 소숫점이하 자리 변환하기\n",
        "a = float(input())\n",
        "print(round(a,2))\n",
        "print(f'{a:.2f}')"
      ],
      "metadata": {
        "colab": {
          "base_uri": "https://localhost:8080/"
        },
        "id": "MNajj8A-JD7s",
        "outputId": "924245b3-82ab-4344-dd79-3afecdeb003c"
      },
      "execution_count": null,
      "outputs": [
        {
          "output_type": "stream",
          "name": "stdout",
          "text": [
            "1.345\n",
            "1.34\n",
            "1.34\n"
          ]
        }
      ]
    },
    {
      "cell_type": "code",
      "source": [
        "# 6043 : [기초-산술연산] 실수 2개 입력받아 나눈 결과 계산하기\n",
        "a, b =input().split()\n",
        "print(f'{float(a)/float(b):.3f}')"
      ],
      "metadata": {
        "id": "hoEzelIXJCqs",
        "colab": {
          "base_uri": "https://localhost:8080/"
        },
        "outputId": "05406210-c77f-448f-8e8c-2166b9efd28d"
      },
      "execution_count": null,
      "outputs": [
        {
          "output_type": "stream",
          "name": "stdout",
          "text": [
            "10.0 3.0\n",
            "3.333\n"
          ]
        }
      ]
    },
    {
      "cell_type": "code",
      "source": [
        "# 6044 : [기초-산술연산] 정수 2개 입력받아 자동 계산하기\n",
        "a,b = map(int, input().split())\n",
        "print(a+b)\n",
        "print(a-b)\n",
        "print(a*b)\n",
        "print(a//b)\n",
        "print(a%b)\n",
        "print(round(a/b,2))"
      ],
      "metadata": {
        "id": "xDvpHzo1bDRL",
        "colab": {
          "base_uri": "https://localhost:8080/"
        },
        "outputId": "6e9c8b31-d68c-4f89-c72c-9ae2fee80d52"
      },
      "execution_count": null,
      "outputs": [
        {
          "output_type": "stream",
          "name": "stdout",
          "text": [
            "10 3\n",
            "13\n",
            "7\n",
            "30\n",
            "3\n",
            "1\n",
            "3.33\n"
          ]
        }
      ]
    },
    {
      "cell_type": "code",
      "source": [
        "# 6045 : [기초-산술연산] 정수 3개 입력받아 합과 평균 출력하기\n",
        "a,b,c = map(int, input().split())\n",
        "d = a+b+c\n",
        "print(f'{d} {d/3:.2f}')"
      ],
      "metadata": {
        "colab": {
          "base_uri": "https://localhost:8080/"
        },
        "id": "FRFmKnUVVKqf",
        "outputId": "f65229fb-9ab4-43ba-d93d-fe40767b8a99"
      },
      "execution_count": null,
      "outputs": [
        {
          "output_type": "stream",
          "name": "stdout",
          "text": [
            "1 2 3\n",
            "6 2.00\n"
          ]
        }
      ]
    },
    {
      "cell_type": "markdown",
      "source": [
        "<pre>\n",
        "2비트<br>\n",
        "*2 를 계산한 값을 출력해도 되지만,\n",
        "정수를 2배로 곱하거나 나누어 계산해 주는 비트단위시프트연산자 <<, >>를 이용할 수 있다.\n",
        "컴퓨터 내부에는 2진수 형태로 값들이 저장되기 때문에,\n",
        "2진수 형태로 저장되어 있는 값들을 왼쪽(<<)이나 오른쪽(>>)으로\n",
        "지정한 비트 수만큼 밀어주면 2배씩 늘어나거나 1/2로 줄어드는데,\n",
        "\n",
        "왼쪽 비트시프트(<<)가 될 때에는 오른쪽에 0이 주어진 개수만큼 추가되고,\n",
        "오른쪽 비트시프트(>>)가 될 때에는 왼쪽에 0(0 또는 양의 정수인 경우)이나 1(음의 정수인 경우)이 개수만큼 추가되고,\n",
        "가장 오른쪽에 있는 1비트는 사라진다.\n",
        "\n",
        "\n",
        "예시\n",
        "a = 2\n",
        "b = 10\n",
        "print(a << b)  #210 = 1024 가 출력된다.\n",
        "\n",
        "\n",
        "** 비트단위(bitwise)연산자는,\n",
        "~(bitwise not), &(bitwise and), |(bitwise or), ^(bitwise xor),\n",
        "<<(bitwise left shift), >>(bitwise right shift)\n",
        "\n",
        "불(bool) 자료형이란 참(True)과 거짓(False)을 나타내는 자료형이다. 불 자료형은 다음 2가지 값만을 가질 수 있다.\n",
        "\n",
        "True - 참\n",
        "False - 거짓"
      ],
      "metadata": {
        "id": "4X4_dLRcYpXV"
      }
    },
    {
      "cell_type": "code",
      "source": [
        "# 6046 : [기초-비트시프트연산] 정수 1개 입력받아 2배 곱해 출력하기\n",
        "a = int(input())\n",
        "print(a<<1)"
      ],
      "metadata": {
        "colab": {
          "base_uri": "https://localhost:8080/"
        },
        "id": "OpcjQE-uXNYA",
        "outputId": "6d6a509a-8341-4159-8721-87a7db63b14f"
      },
      "execution_count": null,
      "outputs": [
        {
          "output_type": "stream",
          "name": "stdout",
          "text": [
            "1024\n",
            "2048\n"
          ]
        }
      ]
    },
    {
      "cell_type": "code",
      "source": [
        "# 6047 : [기초-비트시프트연산] 2의 거듭제곱 배로 곱해 출력하기\n",
        "a,b = map(int,input().split())\n",
        "print(a<<b)"
      ],
      "metadata": {
        "colab": {
          "base_uri": "https://localhost:8080/"
        },
        "id": "QYt4R6fAYxwB",
        "outputId": "ea8177d2-db04-40c2-de82-20471335b158"
      },
      "execution_count": null,
      "outputs": [
        {
          "output_type": "stream",
          "name": "stdout",
          "text": [
            "1 3\n",
            "8\n"
          ]
        }
      ]
    },
    {
      "cell_type": "code",
      "source": [
        "# 6048 : [기초-비교연산] 정수 2개 입력받아 비교하기1\n",
        "a, b = map(int, input().split())\n",
        "print(a<b)"
      ],
      "metadata": {
        "colab": {
          "base_uri": "https://localhost:8080/"
        },
        "id": "7OWFjjuiYxx9",
        "outputId": "38137c48-5266-4e3e-c564-b4f6ed75eb59"
      },
      "execution_count": null,
      "outputs": [
        {
          "output_type": "stream",
          "name": "stdout",
          "text": [
            "1 9\n",
            "True\n"
          ]
        }
      ]
    },
    {
      "cell_type": "code",
      "source": [
        "# 6049 [기초-비교연산] 정수 2개 입력받아 비교하기2\n",
        "a, b = map(int, input().split())\n",
        "if a == b:\n",
        "  print(True)\n",
        "else:\n",
        "  print(False)"
      ],
      "metadata": {
        "colab": {
          "base_uri": "https://localhost:8080/"
        },
        "id": "MsgHaS2QYx7N",
        "outputId": "fdc313c2-bce1-4bfb-d5cf-bf4ede17792c"
      },
      "execution_count": null,
      "outputs": [
        {
          "output_type": "stream",
          "name": "stdout",
          "text": [
            "0 0\n",
            "True\n"
          ]
        }
      ]
    },
    {
      "cell_type": "code",
      "source": [
        "# 6050 : [기초-비교연산] 정수 2개 입력받아 비교하기3\n",
        "a, b = map(int, input().split())\n",
        "print(a<=b)"
      ],
      "metadata": {
        "colab": {
          "base_uri": "https://localhost:8080/"
        },
        "id": "Ytqcl_xrYx90",
        "outputId": "7da73e3d-0e88-46f4-c96f-b36eb6559c3d"
      },
      "execution_count": null,
      "outputs": [
        {
          "output_type": "stream",
          "name": "stdout",
          "text": [
            "0 -1\n",
            "False\n"
          ]
        }
      ]
    },
    {
      "cell_type": "code",
      "source": [
        "# 6051 : [기초-비교연산] 정수 2개 입력받아 비교하기4\n",
        "a, b = map(int, input().split())\n",
        "print(a != b)"
      ],
      "metadata": {
        "colab": {
          "base_uri": "https://localhost:8080/"
        },
        "id": "HOtL5W7jYx_6",
        "outputId": "f110e490-3685-476f-8019-e6670e5b7422"
      },
      "execution_count": null,
      "outputs": [
        {
          "output_type": "stream",
          "name": "stdout",
          "text": [
            "0 1\n",
            "True\n"
          ]
        }
      ]
    },
    {
      "cell_type": "code",
      "source": [
        "# 6052 : [기초-논리연산] 정수 입력받아 참 거짓 평가하기\n",
        "a = int(input())\n",
        "print(bool(a))"
      ],
      "metadata": {
        "colab": {
          "base_uri": "https://localhost:8080/"
        },
        "id": "HIs5YdDca2eJ",
        "outputId": "be92c931-bb74-45f6-fcaf-535f1fe8408b"
      },
      "execution_count": null,
      "outputs": [
        {
          "output_type": "stream",
          "name": "stdout",
          "text": [
            "0\n",
            "False\n"
          ]
        }
      ]
    },
    {
      "cell_type": "code",
      "source": [
        "# 6053 : [기초-논리연산] 참 거짓 바꾸기\n",
        "a = bool(int(input()))\n",
        "print(not a)"
      ],
      "metadata": {
        "colab": {
          "base_uri": "https://localhost:8080/"
        },
        "id": "nzXKMPOWbIZY",
        "outputId": "08c46dd3-5902-4913-9ce2-01a81a579580"
      },
      "execution_count": null,
      "outputs": [
        {
          "output_type": "stream",
          "name": "stdout",
          "text": [
            "1\n",
            "False\n"
          ]
        }
      ]
    },
    {
      "cell_type": "code",
      "source": [
        "# 6054 : [기초-논리연산] 둘 다 참일 경우만 참 출력하기\n",
        "a, b = map(int, input().split())\n",
        "print(bool(a) == bool(b)) # ==, and"
      ],
      "metadata": {
        "colab": {
          "base_uri": "https://localhost:8080/"
        },
        "id": "yOG__nxabIcH",
        "outputId": "abed7909-c4fc-47d4-ceb5-81b3c1298326"
      },
      "execution_count": null,
      "outputs": [
        {
          "output_type": "stream",
          "name": "stdout",
          "text": [
            "1 1\n",
            "True\n"
          ]
        }
      ]
    },
    {
      "cell_type": "code",
      "source": [
        "# 6055 : [기초-논리연산] 하나라도 참이면 참 출력하기\n",
        "a, b = map(int, input().split())\n",
        "print(bool(a) & bool(b)) # & or"
      ],
      "metadata": {
        "colab": {
          "base_uri": "https://localhost:8080/"
        },
        "id": "jNkuTAK9a2gv",
        "outputId": "c1aa1c03-6aaf-4765-970f-35f9518db007"
      },
      "execution_count": null,
      "outputs": [
        {
          "output_type": "stream",
          "name": "stdout",
          "text": [
            "1 1\n",
            "True\n"
          ]
        }
      ]
    },
    {
      "cell_type": "code",
      "source": [
        "# 6056 : [기초-논리연산] 참/거짓이 서로 다를 때에만 참 출력하기\n",
        "a, b = map(int, input().split())\n",
        "print(bool(a) and (not bool(b)) or bool(b) and (not(bool(a))))"
      ],
      "metadata": {
        "colab": {
          "base_uri": "https://localhost:8080/"
        },
        "id": "5T4TWB5Ea2jX",
        "outputId": "1688ef3a-d77f-489a-aced-492e6ac5e0ea"
      },
      "execution_count": null,
      "outputs": [
        {
          "output_type": "stream",
          "name": "stdout",
          "text": [
            "1 1\n",
            "False\n"
          ]
        }
      ]
    },
    {
      "cell_type": "code",
      "source": [
        "# 6057 : [기초-논리연산] 참/거짓이 서로 같을 때에만 참 출력하기\n",
        "a, b = map(int, input().split())\n",
        "print(bool(a) == bool(b))"
      ],
      "metadata": {
        "colab": {
          "base_uri": "https://localhost:8080/"
        },
        "id": "h7b3iR9sYWBD",
        "outputId": "36c08bae-d81a-43de-d342-e024e399d451"
      },
      "execution_count": null,
      "outputs": [
        {
          "output_type": "stream",
          "name": "stdout",
          "text": [
            "1 1\n",
            "True\n"
          ]
        }
      ]
    },
    {
      "cell_type": "code",
      "source": [
        "# 6058 : [기초-논리연산] 둘 다 거짓일 경우만 참 출력하기\n",
        "a, b = map(int, input().split())\n",
        "print(not (a or b)) # not a and not b = not (a or b)"
      ],
      "metadata": {
        "colab": {
          "base_uri": "https://localhost:8080/"
        },
        "id": "X5DpcA1FeiqA",
        "outputId": "fc40262b-0df3-4101-b8ad-a2f335cbd023"
      },
      "execution_count": null,
      "outputs": [
        {
          "output_type": "stream",
          "name": "stdout",
          "text": [
            "0 0\n",
            "True\n"
          ]
        }
      ]
    },
    {
      "cell_type": "code",
      "source": [
        "# 6059 : [기초-비트단위논리연산] 비트단위로 NOT 하여 출력하기\n",
        "# ~n = -n -1\n",
        "# -n = ~n + 1\n",
        "a = int(input())\n",
        "print(~a)"
      ],
      "metadata": {
        "colab": {
          "base_uri": "https://localhost:8080/"
        },
        "id": "cZlnAXlJfdh-",
        "outputId": "2df78796-b975-4a81-f9c6-523ac6f90e9f"
      },
      "execution_count": null,
      "outputs": [
        {
          "output_type": "stream",
          "name": "stdout",
          "text": [
            "2\n",
            "-3\n"
          ]
        }
      ]
    },
    {
      "cell_type": "code",
      "source": [
        "# 6060 : [기초-비트단위논리연산] 비트단위로 AND 하여 출력하기\n",
        "a, b = map(int, input().split())\n",
        "print(a&b)"
      ],
      "metadata": {
        "colab": {
          "base_uri": "https://localhost:8080/"
        },
        "id": "rVJtL2vYfsYE",
        "outputId": "d29e081c-db67-4c92-895f-a8b2218dcaa0"
      },
      "execution_count": null,
      "outputs": [
        {
          "output_type": "stream",
          "name": "stdout",
          "text": [
            "3 5\n",
            "1\n"
          ]
        }
      ]
    },
    {
      "cell_type": "code",
      "source": [
        "# 6061 : [기초-비트단위논리연산] 비트단위로 OR 하여 출력하기\n",
        "a, b = map(int, input().split())\n",
        "print(a | b)"
      ],
      "metadata": {
        "colab": {
          "base_uri": "https://localhost:8080/"
        },
        "id": "javfMKVhfsam",
        "outputId": "505f0b0a-4435-43da-9347-c760cab475b7"
      },
      "execution_count": null,
      "outputs": [
        {
          "output_type": "stream",
          "name": "stdout",
          "text": [
            "3 5\n",
            "7\n"
          ]
        }
      ]
    },
    {
      "cell_type": "code",
      "source": [
        "# 6062 : [기초-비트단위논리연산] 비트단위로 XOR 하여 출력하기\n",
        "a, b = map(int, input().split())\n",
        "print(a ^ b)"
      ],
      "metadata": {
        "colab": {
          "base_uri": "https://localhost:8080/"
        },
        "id": "OMRRBek-hFQk",
        "outputId": "9432dc45-49d2-47ca-c532-8c729e7468af"
      },
      "execution_count": null,
      "outputs": [
        {
          "output_type": "stream",
          "name": "stdout",
          "text": [
            "3 5\n",
            "6\n"
          ]
        }
      ]
    },
    {
      "cell_type": "markdown",
      "source": [
        "3개의 요소로 이루어지는 3항 연산은\n",
        "\"x if C else y\" 의 형태로 작성이 된다. <br>\n",
        "- C : True 또는 False 를 평가할 조건식(conditional expression) 또는 값\n",
        "- x : C의 평가 결과가 True 일 때 사용할 값\n",
        "- y : C의 평가 결과가 True 가 아닐 때 사용할 값"
      ],
      "metadata": {
        "id": "u-aBtto2id4t"
      }
    },
    {
      "cell_type": "code",
      "source": [
        "# 6063 : [기초-3항연산] 정수 2개 입력받아 큰 값 출력하기\n",
        "a, b = map(int, input().split())\n",
        "if a > b:\n",
        "  print(a)\n",
        "elif b > a:\n",
        "  print(b)\n",
        "# c = a if a >= b else b \n",
        "# print(c)"
      ],
      "metadata": {
        "colab": {
          "base_uri": "https://localhost:8080/"
        },
        "id": "3jxLUdvohctV",
        "outputId": "1dcf682c-6d12-454c-daa1-e2ed255bb305"
      },
      "execution_count": null,
      "outputs": [
        {
          "output_type": "stream",
          "name": "stdout",
          "text": [
            "123 456\n",
            "456\n"
          ]
        }
      ]
    },
    {
      "cell_type": "code",
      "source": [
        "# 6064 : [기초-3항연산] 정수 3개 입력받아 가장 작은 값 출력하기\n",
        "a,b,c  = map(int, input().split())\n",
        "# d = a if a<b else b \n",
        "# e = d if d<c else c\n",
        "if a < b and a < c:\n",
        "  print(a)\n",
        "if b < a and b < c:\n",
        "  print(b)\n",
        "if c < a and c < b:\n",
        "  print(c)\n",
        "print(min(a,b,c))"
      ],
      "metadata": {
        "colab": {
          "base_uri": "https://localhost:8080/"
        },
        "id": "MZYlwFWtiCsP",
        "outputId": "970c1e92-4e15-4b2f-aaca-e760d1eb09e0"
      },
      "execution_count": null,
      "outputs": [
        {
          "output_type": "stream",
          "name": "stdout",
          "text": [
            "3 -1 5\n",
            "-1\n",
            "-1\n"
          ]
        }
      ]
    },
    {
      "cell_type": "code",
      "source": [
        "# 6065 : [기초-조건/선택실행구조] 정수 3개 입력받아 짝수만 출력하기\n",
        "a,b,c, = map(int, input().split())\n",
        "if a % 2 == 0:\n",
        "  print(a)\n",
        "elif b % 2 == 0:\n",
        "  print(b)\n",
        "else:\n",
        "  print(c)"
      ],
      "metadata": {
        "id": "dsu67ybJiqHc"
      },
      "execution_count": null,
      "outputs": []
    },
    {
      "cell_type": "code",
      "source": [
        "# 6066 : [기초-조건/선택실행구조] 정수 3개 입력받아 짝/홀 출력하기\n",
        "a,b,c = map(int, input().split())\n",
        "d = [a,b,c]\n",
        "result = []\n",
        "for i in d:\n",
        "  if i % 2 == 0:\n",
        "    print('even')\n",
        "  else:\n",
        "    print('odd')"
      ],
      "metadata": {
        "id": "hEv8B1ehiqJl",
        "colab": {
          "base_uri": "https://localhost:8080/"
        },
        "outputId": "2201d7e2-b1b9-4351-aaac-a1e04854fd1b"
      },
      "execution_count": null,
      "outputs": [
        {
          "output_type": "stream",
          "name": "stdout",
          "text": [
            "1 2 8\n",
            "odd\n",
            "even\n",
            "even\n"
          ]
        }
      ]
    },
    {
      "cell_type": "code",
      "source": [
        "# 6067 : [기초-조건/선택실행구조] 정수 1개 입력받아 분류하기\n",
        "a = int(input())\n",
        "if a < 0 and a % 2== 0:\n",
        "  print('A')\n",
        "elif a < 0 and a % 2 == 1:\n",
        "  print('B')\n",
        "elif a > 0 and a % 2 == 0:\n",
        "  print('C')\n",
        "else:\n",
        "  print('D')"
      ],
      "metadata": {
        "colab": {
          "base_uri": "https://localhost:8080/"
        },
        "id": "FN5OOZU9iAG_",
        "outputId": "c27269fa-5a40-43ce-f411-c6ff4982c710"
      },
      "execution_count": null,
      "outputs": [
        {
          "output_type": "stream",
          "name": "stdout",
          "text": [
            "-2147483648\n",
            "A\n"
          ]
        }
      ]
    },
    {
      "cell_type": "code",
      "source": [
        "# 6068 : [기초-조건/선택실행구조] 점수 입력받아 평가 출력하기\n",
        "a = int(input())\n",
        "if a < 40:\n",
        "  print('D')\n",
        "elif a < 70:\n",
        "  print('C')\n",
        "elif a < 90:\n",
        "  print('B')\n",
        "elif a < 101:\n",
        "  print('A')"
      ],
      "metadata": {
        "colab": {
          "base_uri": "https://localhost:8080/"
        },
        "id": "vqmK__3UlmaU",
        "outputId": "9c85feba-1bf1-4053-ef51-dbc0ce7deaa8"
      },
      "execution_count": null,
      "outputs": [
        {
          "output_type": "stream",
          "name": "stdout",
          "text": [
            "100\n",
            "A\n"
          ]
        }
      ]
    },
    {
      "cell_type": "code",
      "source": [
        "# 6069 : [기초-조건/선택실행구조] 평가 입력받아 다르게 출력하기\n",
        "a = input('')\n",
        "if a == 'A':\n",
        "  print('best!!!')\n",
        "elif a == 'B':\n",
        "  print('good!!')\n",
        "elif a == 'C':\n",
        "  print('run!')\n",
        "elif a == 'D':\n",
        "  print('slowly~')\n",
        "else:\n",
        "  print('what?')"
      ],
      "metadata": {
        "colab": {
          "base_uri": "https://localhost:8080/"
        },
        "id": "Mj-hkSVgmMks",
        "outputId": "9a703f97-f656-427e-8438-82dd5d4d2795"
      },
      "execution_count": null,
      "outputs": [
        {
          "output_type": "stream",
          "name": "stdout",
          "text": [
            "A\n",
            "best!!!\n"
          ]
        }
      ]
    },
    {
      "cell_type": "code",
      "source": [
        "# 6070 : [기초-조건/선택실행구조] 월 입력받아 계절 출력하기\n",
        "a = int(input())\n",
        "if a == 12 or a == 1 or a == 2:\n",
        "  print('winter')\n",
        "elif 3 <= a <= 5:\n",
        "  print('spring')\n",
        "elif 6 <= a <= 8:\n",
        "  print('summer')\n",
        "elif 9 <= a <= 11:\n",
        "  print('fall')"
      ],
      "metadata": {
        "colab": {
          "base_uri": "https://localhost:8080/"
        },
        "id": "Y_Gdzc_Tn_iU",
        "outputId": "34d009b3-120b-4496-c289-b7da5316ca87"
      },
      "execution_count": null,
      "outputs": [
        {
          "output_type": "stream",
          "name": "stdout",
          "text": [
            "12\n",
            "winter\n"
          ]
        }
      ]
    },
    {
      "cell_type": "code",
      "source": [
        "#[모범답안] 6070 : [기초-조건/선택실행구조] 월 입력받아 계절 출력하기\n",
        "a=int(input())\n",
        "if a//3==1: # 정수 몫 나누기\n",
        "    print(\"spring\")\n",
        "elif a//3==2:\n",
        "    print(\"summer\")\n",
        "elif a//3==3:\n",
        "    print(\"fall\")\n",
        "else:\n",
        "    print(\"winter\")"
      ],
      "metadata": {
        "colab": {
          "base_uri": "https://localhost:8080/"
        },
        "id": "c80EC9AzrgXz",
        "outputId": "a6c0de61-9189-4350-b719-ebdd1631e63d"
      },
      "execution_count": null,
      "outputs": [
        {
          "output_type": "stream",
          "name": "stdout",
          "text": [
            "1\n",
            "winter\n"
          ]
        }
      ]
    },
    {
      "cell_type": "code",
      "source": [
        "# 6071 : [기초-반복실행구조] 0 입력될 때까지 무한 출력하기\n",
        "n = 1\n",
        "while True:\n",
        "  n = int(input())  \n",
        "  if n != 0:\n",
        "    print(n)\n",
        "  else:\n",
        "    break"
      ],
      "metadata": {
        "colab": {
          "base_uri": "https://localhost:8080/"
        },
        "id": "t9SeZhVIrshe",
        "outputId": "bdbafa31-abd3-462b-c53d-c7cfcd113748"
      },
      "execution_count": null,
      "outputs": [
        {
          "name": "stdout",
          "output_type": "stream",
          "text": [
            "10\n",
            "10\n",
            "30\n",
            "30\n",
            "0\n"
          ]
        }
      ]
    },
    {
      "cell_type": "code",
      "source": [
        "# 6072 : [기초-반복실행구조] 정수 1개 입력받아 카운트다운 출력하기1\n",
        "a = int(input())\n",
        "while True:\n",
        "  print(a)\n",
        "  a -= 1\n",
        "  if a == 0:\n",
        "    break\n",
        "\n",
        "a=int(input())\n",
        "while a!=0:\n",
        "    print(a)\n",
        "    a -= 1"
      ],
      "metadata": {
        "colab": {
          "base_uri": "https://localhost:8080/"
        },
        "id": "kyxktDOgsBy7",
        "outputId": "772ced13-7334-4207-a096-aabd9a6d300e"
      },
      "execution_count": null,
      "outputs": [
        {
          "output_type": "stream",
          "name": "stdout",
          "text": [
            "5\n",
            "5\n",
            "4\n",
            "3\n",
            "2\n",
            "1\n"
          ]
        }
      ]
    },
    {
      "cell_type": "code",
      "source": [
        "# 6073 : [기초-반복실행구조] 정수 1개 입력받아 카운트다운 출력하기2\n",
        "n = int(input())\n",
        "while n != 0:\n",
        "  n -= 1\n",
        "  print(n)"
      ],
      "metadata": {
        "colab": {
          "base_uri": "https://localhost:8080/"
        },
        "id": "RFVN9eOuv9PX",
        "outputId": "914a1d03-a290-4c4f-bb1a-8314856c99e1"
      },
      "execution_count": null,
      "outputs": [
        {
          "output_type": "stream",
          "name": "stdout",
          "text": [
            "3\n",
            "2\n",
            "1\n",
            "0\n"
          ]
        }
      ]
    },
    {
      "cell_type": "code",
      "source": [
        "# 6074 : [기초-반복실행구조] 문자 1개 입력받아 알파벳 출력하기\n",
        "c = ord(input())\n",
        "t = ord('a') # a기준\n",
        "while t <= c:\n",
        "  print(chr(t), end = ' ')\n",
        "  t += 1"
      ],
      "metadata": {
        "colab": {
          "base_uri": "https://localhost:8080/"
        },
        "id": "JmIDApqbyqgW",
        "outputId": "7b35b561-aae2-47b6-c6f5-b2c5c51125e6"
      },
      "execution_count": null,
      "outputs": [
        {
          "output_type": "stream",
          "name": "stdout",
          "text": [
            "f\n",
            "a b c d e f "
          ]
        }
      ]
    },
    {
      "cell_type": "code",
      "source": [
        "# 6075 : [기초-반복실행구조] 정수 1개 입력받아 그 수까지 출력하기1\n",
        "a = int(input())\n",
        "z = 0\n",
        "while z <= a:\n",
        "  print(z)\n",
        "  z += 1"
      ],
      "metadata": {
        "colab": {
          "base_uri": "https://localhost:8080/"
        },
        "id": "GiPP0qaVzjOt",
        "outputId": "1ab7f9ff-b8a0-4eec-f7b6-09a5bdf36519"
      },
      "execution_count": null,
      "outputs": [
        {
          "output_type": "stream",
          "name": "stdout",
          "text": [
            "4\n",
            "0\n",
            "1\n",
            "2\n",
            "3\n",
            "4\n"
          ]
        }
      ]
    },
    {
      "cell_type": "code",
      "source": [
        "# 6076 : [기초-반복실행구조] 정수 1개 입력받아 그 수까지 출력하기2\n",
        "a = int(input())\n",
        "for i in range(a+1):\n",
        "  print(i)"
      ],
      "metadata": {
        "colab": {
          "base_uri": "https://localhost:8080/"
        },
        "id": "Ex3MAHN01Jjk",
        "outputId": "1d736f13-98a5-4488-a1f7-a40a9d36214f"
      },
      "execution_count": null,
      "outputs": [
        {
          "output_type": "stream",
          "name": "stdout",
          "text": [
            "3\n",
            "0\n",
            "1\n",
            "2\n",
            "3\n"
          ]
        }
      ]
    },
    {
      "cell_type": "code",
      "source": [
        "# 6077 : [기초-종합] 짝수 합 구하기\n",
        "n = int(input())\n",
        "result = 0\n",
        "for i in range(0,n+1,2):\n",
        "  result += i\n",
        "print(result)"
      ],
      "metadata": {
        "colab": {
          "base_uri": "https://localhost:8080/"
        },
        "id": "JPG41QZE1sbf",
        "outputId": "a87f9742-a1b9-40cb-ed44-4cf2c7c100de"
      },
      "execution_count": null,
      "outputs": [
        {
          "output_type": "stream",
          "name": "stdout",
          "text": [
            "5\n",
            "6\n"
          ]
        }
      ]
    },
    {
      "cell_type": "code",
      "source": [
        "# 6078 : [기초-종합] 원하는 문자가 입력될 때까지 반복 출력하기\n",
        "while True:\n",
        "  s = input()\n",
        "  print(s)\n",
        "  if s == 'q':\n",
        "    break"
      ],
      "metadata": {
        "colab": {
          "base_uri": "https://localhost:8080/"
        },
        "id": "yLlbR7Rw3EOe",
        "outputId": "c3ae508f-60ed-4467-e233-8c28b99ff1a1"
      },
      "execution_count": null,
      "outputs": [
        {
          "output_type": "stream",
          "name": "stdout",
          "text": [
            "q\n",
            "q\n"
          ]
        }
      ]
    },
    {
      "cell_type": "code",
      "source": [
        "# 6079 : [기초-종합] 언제까지 더해야 할까?\n",
        "n = int(input())\n",
        "result = 0\n",
        "for i in range(0,1000):\n",
        "  result += i\n",
        "  if result >= n:\n",
        "    print(i)\n",
        "    break"
      ],
      "metadata": {
        "colab": {
          "base_uri": "https://localhost:8080/"
        },
        "id": "CsHfXQSq4BJm",
        "outputId": "6a195fb5-e4e9-4435-e907-5437360b5f3a"
      },
      "execution_count": null,
      "outputs": [
        {
          "output_type": "stream",
          "name": "stdout",
          "text": [
            "55\n",
            "10\n"
          ]
        }
      ]
    },
    {
      "cell_type": "code",
      "source": [
        "# 6080 : [기초-종합] 주사위 2개 던지기\n",
        "a, b = map(int, input().split())\n",
        "for i in range(1,a+1):\n",
        "  for j in range(1, b+1):\n",
        "    print(i,j)"
      ],
      "metadata": {
        "colab": {
          "base_uri": "https://localhost:8080/"
        },
        "id": "cyRSQyqI8NTK",
        "outputId": "f119dc5d-be09-474e-d04f-e770727afeb1"
      },
      "execution_count": null,
      "outputs": [
        {
          "output_type": "stream",
          "name": "stdout",
          "text": [
            "2 3\n",
            "1 1\n",
            "1 2\n",
            "1 3\n",
            "2 1\n",
            "2 2\n",
            "2 3\n"
          ]
        }
      ]
    },
    {
      "cell_type": "code",
      "source": [
        "# 6081 : [기초-종합] 16진수 구구단 \n",
        "n = int(input(),16)\n",
        "for i in range(1, 16):\n",
        "  print('%X'%n, '*%X'%i, '=%X'%(n*i), sep='')\n",
        "  # print('%X*%X=%X'%(n,i,(n*i)))"
      ],
      "metadata": {
        "colab": {
          "base_uri": "https://localhost:8080/"
        },
        "id": "PcUMhb-LB3aq",
        "outputId": "3b82a7c3-df85-4735-af7e-6f6ce34f0b03"
      },
      "execution_count": null,
      "outputs": [
        {
          "output_type": "stream",
          "name": "stdout",
          "text": [
            "B\n",
            "B*1=B\n",
            "B*2=16\n",
            "B*3=21\n",
            "B*4=2C\n",
            "B*5=37\n",
            "B*6=42\n",
            "B*7=4D\n",
            "B*8=58\n",
            "B*9=63\n",
            "B*A=6E\n",
            "B*B=79\n",
            "B*C=84\n",
            "B*D=8F\n",
            "B*E=9A\n",
            "B*F=A5\n"
          ]
        }
      ]
    },
    {
      "cell_type": "code",
      "source": [
        "# 6082 : [기초-종합] 3 6 9 게임의 왕이 되자\n",
        "n = int(input())\n",
        "result = 0\n",
        "for i in range(1, n+1):\n",
        "  if i % 10== 3 or i % 10 == 6 or i % 10 ==9:\n",
        "    print('X', end = ' ')\n",
        "  else:\n",
        "    print(i, end = ' ')"
      ],
      "metadata": {
        "colab": {
          "base_uri": "https://localhost:8080/"
        },
        "id": "IzJ_p9CRCMqZ",
        "outputId": "fff83fd6-f1ec-411f-ccdd-fba2466fdeaa"
      },
      "execution_count": null,
      "outputs": [
        {
          "output_type": "stream",
          "name": "stdout",
          "text": [
            "9\n",
            "1 2 X 4 5 X 7 8 X "
          ]
        }
      ]
    },
    {
      "cell_type": "code",
      "source": [
        "# 6083 : [기초-종합] 빛 섞어 색 만들기\n",
        "r,g,b = map(int, input().split())\n",
        "for i in range(0,r):\n",
        "  for j in range(0,g):\n",
        "    for z in range(0,b):\n",
        "      print(i,j,z)\n",
        "print(r*g*b)"
      ],
      "metadata": {
        "colab": {
          "base_uri": "https://localhost:8080/"
        },
        "id": "Qmo_QYt7Gdx9",
        "outputId": "3be3994f-e8ce-4d81-f8d3-b4f1e305120a"
      },
      "execution_count": null,
      "outputs": [
        {
          "output_type": "stream",
          "name": "stdout",
          "text": [
            "2 2 1\n",
            "0 0 0\n",
            "0 1 0\n",
            "1 0 0\n",
            "1 1 0\n",
            "4\n"
          ]
        }
      ]
    },
    {
      "cell_type": "code",
      "source": [
        "# 6084 : [기초-종합] 소리 파일 저장용량 계산하기\n",
        "a,b,c,d = map(int, input().split())\n",
        "totalbit = a*b*c*d\n",
        "totalbyte = totalbit/8\n",
        "totalkb = totalbyte/1024\n",
        "totalmb = totalkb/1024\n",
        "\n",
        "print(f'{totalmb:0.1f} MB')\n",
        "\n",
        "# print(round(a*b*c*d/8/1024/1024, 1), \"MB\")"
      ],
      "metadata": {
        "colab": {
          "base_uri": "https://localhost:8080/"
        },
        "id": "nM__crtaJzT_",
        "outputId": "c9944faf-09b8-4e8d-8f3e-35f824153933"
      },
      "execution_count": null,
      "outputs": [
        {
          "output_type": "stream",
          "name": "stdout",
          "text": [
            "44100 16 2 10\n",
            "1.7 MB\n"
          ]
        }
      ]
    },
    {
      "cell_type": "code",
      "source": [
        "# 6085 : [기초-종합] 그림 파일 저장용량 계산하기\n",
        "r,g,b = map(int, input().split())\n",
        "print('%.2f'%float(r*g*b/8/1024/1024),'MB')"
      ],
      "metadata": {
        "colab": {
          "base_uri": "https://localhost:8080/"
        },
        "id": "9jWjeMr0dYnX",
        "outputId": "0f77d5cb-3a30-4996-852d-5142691a5586"
      },
      "execution_count": null,
      "outputs": [
        {
          "output_type": "stream",
          "name": "stdout",
          "text": [
            "1024 768 24\n",
            "2.25 MB\n"
          ]
        }
      ]
    },
    {
      "cell_type": "code",
      "source": [
        "# 6086 : [기초-종합] 거기까지! 이제 그만\n",
        "n = int(input())\n",
        "s,c = 0,0\n",
        "while True:\n",
        "  s += c\n",
        "  c += 1\n",
        "  if s >= n:\n",
        "    break\n",
        "\n",
        "print(s)"
      ],
      "metadata": {
        "id": "YNlmCenrfo2T",
        "colab": {
          "base_uri": "https://localhost:8080/"
        },
        "outputId": "3feccc6f-9a88-4d9b-f6ff-8e6e99a22eba"
      },
      "execution_count": null,
      "outputs": [
        {
          "output_type": "stream",
          "name": "stdout",
          "text": [
            "90\n",
            "91\n"
          ]
        }
      ]
    },
    {
      "cell_type": "code",
      "source": [
        "# 6087 : [기초-종합] 3의 배수는 통과\n",
        "n = int(input())\n",
        "for i in range(1,n+1):\n",
        "  if i % 3 == 0:\n",
        "    pass # continue 다음 반복 단계로 넘어간다.\n",
        "  else:\n",
        "    print(i, end = ' ')"
      ],
      "metadata": {
        "colab": {
          "base_uri": "https://localhost:8080/"
        },
        "id": "z5jzoQUuyRSf",
        "outputId": "fee183c1-fd65-4f79-e5a2-86fefe050cc2"
      },
      "execution_count": null,
      "outputs": [
        {
          "output_type": "stream",
          "name": "stdout",
          "text": [
            "10\n",
            "1 2 4 5 7 8 10 "
          ]
        }
      ]
    },
    {
      "cell_type": "markdown",
      "source": [
        "# 등차수열"
      ],
      "metadata": {
        "id": "ROlNDsLHMicG"
      }
    },
    {
      "cell_type": "code",
      "source": [
        "# 6088 : [기초-종합] 수 나열하기1\n",
        "a, d, n = map(int, input().split()) # 시작 값(a), 등차의 값(d), 몇 번째 수 인지를 의미하는 정수(n)\n",
        "print(a+d*(n-1))\n",
        "# 등차수열 a+(n-1)d"
      ],
      "metadata": {
        "colab": {
          "base_uri": "https://localhost:8080/"
        },
        "id": "3r2AnqO5zify",
        "outputId": "4e9f8c07-c388-4a45-fcb2-d21eabcd6c51"
      },
      "execution_count": null,
      "outputs": [
        {
          "output_type": "stream",
          "name": "stdout",
          "text": [
            "1 3 5\n",
            "13\n"
          ]
        }
      ]
    },
    {
      "cell_type": "markdown",
      "source": [
        "# 등비수열"
      ],
      "metadata": {
        "id": "GTfIVh4AMlQ3"
      }
    },
    {
      "cell_type": "code",
      "source": [
        "# 6089 : [기초-종합] 수 나열하기2\n",
        "a,r,n = map(int, input().split())\n",
        "print(a*(r**(n-1)))\n",
        "# 등비수열 a*r^(n-1)\n",
        "\n",
        "# for i in range(1, n) :\n",
        "#   a = a*r"
      ],
      "metadata": {
        "colab": {
          "base_uri": "https://localhost:8080/"
        },
        "id": "T0GodADW2dkb",
        "outputId": "bebb8fba-dc32-4cc1-cef5-75eda5fc8dbe"
      },
      "execution_count": null,
      "outputs": [
        {
          "output_type": "stream",
          "name": "stdout",
          "text": [
            "2 3 7\n",
            "1458\n"
          ]
        }
      ]
    },
    {
      "cell_type": "markdown",
      "source": [
        "# 수열"
      ],
      "metadata": {
        "id": "F3bro0NGMncN"
      }
    },
    {
      "cell_type": "code",
      "source": [
        "# 6090 : [기초-종합] 수 나열하기3\n",
        "a, m, d, n = map(int, input().split())\n",
        "for i in range(1, n):\n",
        "  a *= m\n",
        "  a += d\n",
        "print(a)\n",
        "\n",
        "# a = a*m+d"
      ],
      "metadata": {
        "colab": {
          "base_uri": "https://localhost:8080/"
        },
        "id": "YbKliji1L--R",
        "outputId": "24ec9fff-5a72-48c4-8829-dd19d03cbe7e"
      },
      "execution_count": null,
      "outputs": [
        {
          "output_type": "stream",
          "name": "stdout",
          "text": [
            "1 -2 1 8\n",
            "-85\n"
          ]
        }
      ]
    },
    {
      "cell_type": "markdown",
      "source": [
        "# 최소공배수를 다른 방법으로"
      ],
      "metadata": {
        "id": "3f2lYITHPrb7"
      }
    },
    {
      "cell_type": "code",
      "source": [
        "# 6091 : [기초-종합] 함께 문제 푸는 날\n",
        "a,b,c = map(int, input().split())\n",
        "d = 1\n",
        "# d를 a,b,c로 나눈 나머지가 0이 아닐경우\n",
        "while (d % a != 0) or (d % b != 0) or (d % c != 0): \n",
        "  d += 1\n",
        "print(d)"
      ],
      "metadata": {
        "colab": {
          "base_uri": "https://localhost:8080/"
        },
        "id": "3PIsli3-NT_8",
        "outputId": "fa8a0ecd-858e-4dfa-c44c-3244a10292e2"
      },
      "execution_count": null,
      "outputs": [
        {
          "output_type": "stream",
          "name": "stdout",
          "text": [
            "3 7 9\n",
            "63\n"
          ]
        }
      ]
    },
    {
      "cell_type": "code",
      "source": [
        "# 6092 : [기초-리스트] 이상한 출석 번호 부르기1 \n",
        "n = int(input()) # 개수를 입력받아 n에 정수로 저장\n",
        "a = input().split() # 공백을 기준으로 잘라 a에 순서대로 저장\n",
        "\n",
        "for i in range(n):\n",
        "  a[i] = int(a[i]) # a원소들 숫자로 바꿈\n",
        "\n",
        "d = []                     #d라는 이름의 빈 리스트 [ ] 변수를 만듦. 대괄호 기호 [  ] 를 사용한다.\n",
        "for i in range(24) :  #[0, 0, 0, ... , 0, 0, 0] 과 같이 24개의 정수 값 0을 추가해 넣음\n",
        "  d.append(0)        #각 값은 d[0], d[1], d[2], ... , d[22], d[23] 으로 값을 읽고 저장할 수 있음.\n",
        "\n",
        "for i in range(n) :    #번호를 부를 때마다, 그 번호에 대한 카운트 1씩 증가\n",
        "  d[a[i]] += 1\n",
        "\n",
        "for i in range(1, 24) :  #카운트한 값을 공백을 두고 출력\n",
        "  print(d[i], end=' ')"
      ],
      "metadata": {
        "colab": {
          "base_uri": "https://localhost:8080/"
        },
        "id": "TznLQUOfPzRU",
        "outputId": "7dde9eab-0754-4b21-d963-bddbf4720865"
      },
      "execution_count": null,
      "outputs": [
        {
          "output_type": "stream",
          "name": "stdout",
          "text": [
            "10\n",
            "1 3 2 2 5 6 7 4 5 9\n",
            "1 2 1 1 2 1 1 0 1 0 0 0 0 0 0 0 0 0 0 0 0 0 0 "
          ]
        }
      ]
    },
    {
      "cell_type": "code",
      "source": [
        "# 6093 : [기초-리스트] 이상한 출석 번호 부르기2\n",
        "n = int(input())\n",
        "a = input().split()\n",
        "for i in range(n-1, -1,-1):\n",
        "  print(a[i], end=' ')\n",
        "\n",
        "# a.reverse()\n",
        "# for i in range(n):\n",
        "#   print(a[i], end = ' ')"
      ],
      "metadata": {
        "colab": {
          "base_uri": "https://localhost:8080/"
        },
        "id": "vjz-21JhUZSz",
        "outputId": "105310ee-7d37-4987-8696-2f8cae441ed7"
      },
      "execution_count": null,
      "outputs": [
        {
          "output_type": "stream",
          "name": "stdout",
          "text": [
            "10\n",
            "10 4 2 3 6 6 7 9 8 5\n",
            "5 8 9 7 6 6 3 2 4 10 "
          ]
        }
      ]
    },
    {
      "cell_type": "markdown",
      "source": [
        "##리스트안에 문자열을 숫자로 바꾸기\n",
        "\n",
        "#### 방법1\n",
        "a = list(map(int,input().split()))\n",
        "\n",
        "#### 방법2\n",
        "a = input().split()<br>\n",
        "b = [int(i) for i in a]\n",
        "\n",
        "#### 방법3\n",
        "a = input().split()<br>\n",
        "for i in range(n) :<br>\n",
        "    a[i] = int(a[i])"
      ],
      "metadata": {
        "id": "9xD1Aj5Vdp4-"
      }
    },
    {
      "cell_type": "code",
      "source": [
        "# 6094 : [기초-리스트] 이상한 출석 번호 부르기3\n",
        "n = int(input())\n",
        "\n",
        "# 리스트의 문자열을 숫자로 바꾸는 방법1\n",
        "a = list(map(int,input().split()))\n",
        "\n",
        "# 리스트의 문자열을 숫자로 바꾸는 방법2\n",
        "# a = input().split()\n",
        "# b = [int(i) for i in a]\n",
        "\n",
        "# 작은 수 출력1\n",
        "# for i in range(n):\n",
        "#   a.sort()\n",
        "# print(a[0])\n",
        "\n",
        "# 작은 수 출력1\n",
        "b = 0\n",
        "for i in range(n):\n",
        "  b = min(a)\n",
        "print(b)"
      ],
      "metadata": {
        "colab": {
          "base_uri": "https://localhost:8080/"
        },
        "id": "bbuKduKmXmi-",
        "outputId": "135a1921-3880-4864-8f4c-2f82e5d5c31a"
      },
      "execution_count": null,
      "outputs": [
        {
          "output_type": "stream",
          "name": "stdout",
          "text": [
            "10\n",
            "10 4 2 3 6 6 7 9 8 5\n",
            "2\n"
          ]
        }
      ]
    },
    {
      "cell_type": "code",
      "source": [
        "n = int(input())\n",
        "a = input().split()\n",
        "\n",
        "for i in range(n) :\n",
        "  a[i] = int(a[i])\n",
        "print(type(a[1]))"
      ],
      "metadata": {
        "colab": {
          "base_uri": "https://localhost:8080/"
        },
        "id": "2KkBqZZxY06c",
        "outputId": "0267c69a-f6df-4e28-ea67-cfd25844cb8b"
      },
      "execution_count": null,
      "outputs": [
        {
          "output_type": "stream",
          "name": "stdout",
          "text": [
            "3\n",
            "1 3 5\n",
            "<class 'int'>\n"
          ]
        }
      ]
    },
    {
      "cell_type": "markdown",
      "source": [
        "### 2차원 만들기 (ex. 바둑판)"
      ],
      "metadata": {
        "id": "0eNNGo-tgk28"
      }
    },
    {
      "cell_type": "code",
      "source": [
        "# 6095 : [기초-리스트] 바둑판에 흰 돌 놓기\n",
        "d=[]                   #대괄호 [ ] 를 이용해 아무것도 없는 빈 리스트 만들기\n",
        "# 바둑판 만들기 (2차원)\n",
        "for i in range(20) :\n",
        "  d.append([])         #리스트 안에 다른 리스트 추가해 넣기\n",
        "  for j in range(20) : \n",
        "    d[i].append(0)    #리스트 안에 들어있는 리스트 안에 0 추가해 넣기\n",
        "\n",
        "n = int(input())\n",
        "for i in range(n) :\n",
        "  x,y = map(int, input().split())\n",
        "  d[x][y] = 1 # 결과값 1 추가\n",
        "\n",
        "for i in range(1, 20) :\n",
        "  for j in range(1, 20) : \n",
        "    print(d[i][j], end=' ')    #공백을 두고 한 줄로 출력\n",
        "  print()                     #줄 바꿈"
      ],
      "metadata": {
        "colab": {
          "base_uri": "https://localhost:8080/"
        },
        "id": "hfsD03QwdSBZ",
        "outputId": "90630fa0-8e06-44e4-e8b3-4333b6661efd"
      },
      "execution_count": null,
      "outputs": [
        {
          "output_type": "stream",
          "name": "stdout",
          "text": [
            "5\n",
            "1 1\n",
            "2 2\n",
            "3 3\n",
            "4 4 \n",
            "5 5\n",
            "1 0 0 0 0 0 0 0 0 0 0 0 0 0 0 0 0 0 0 \n",
            "0 1 0 0 0 0 0 0 0 0 0 0 0 0 0 0 0 0 0 \n",
            "0 0 1 0 0 0 0 0 0 0 0 0 0 0 0 0 0 0 0 \n",
            "0 0 0 1 0 0 0 0 0 0 0 0 0 0 0 0 0 0 0 \n",
            "0 0 0 0 1 0 0 0 0 0 0 0 0 0 0 0 0 0 0 \n",
            "0 0 0 0 0 0 0 0 0 0 0 0 0 0 0 0 0 0 0 \n",
            "0 0 0 0 0 0 0 0 0 0 0 0 0 0 0 0 0 0 0 \n",
            "0 0 0 0 0 0 0 0 0 0 0 0 0 0 0 0 0 0 0 \n",
            "0 0 0 0 0 0 0 0 0 0 0 0 0 0 0 0 0 0 0 \n",
            "0 0 0 0 0 0 0 0 0 0 0 0 0 0 0 0 0 0 0 \n",
            "0 0 0 0 0 0 0 0 0 0 0 0 0 0 0 0 0 0 0 \n",
            "0 0 0 0 0 0 0 0 0 0 0 0 0 0 0 0 0 0 0 \n",
            "0 0 0 0 0 0 0 0 0 0 0 0 0 0 0 0 0 0 0 \n",
            "0 0 0 0 0 0 0 0 0 0 0 0 0 0 0 0 0 0 0 \n",
            "0 0 0 0 0 0 0 0 0 0 0 0 0 0 0 0 0 0 0 \n",
            "0 0 0 0 0 0 0 0 0 0 0 0 0 0 0 0 0 0 0 \n",
            "0 0 0 0 0 0 0 0 0 0 0 0 0 0 0 0 0 0 0 \n",
            "0 0 0 0 0 0 0 0 0 0 0 0 0 0 0 0 0 0 0 \n",
            "0 0 0 0 0 0 0 0 0 0 0 0 0 0 0 0 0 0 0 \n"
          ]
        }
      ]
    },
    {
      "cell_type": "code",
      "source": [
        "# 6096 : [기초-리스트] 바둑알 십자 뒤집기\n",
        "d=[]\n",
        "for i in range(20) :\n",
        "  d.append([])\n",
        "  for j in range(20) : \n",
        "    d[i].append(0)\n",
        "\n",
        "for i in range(19) :\n",
        "  a = input().split()\n",
        "  for j in range(19) :\n",
        "    d[i+1][j+1] = int(a[j])\n",
        "\n",
        "n = int(input())\n",
        "for i in range(n) :\n",
        "  x,y=input().split()\n",
        "  x=int(x)\n",
        "  y=int(y)\n",
        "  for j in range(1, 20) :\n",
        "    if d[j][y]==0 :\n",
        "      d[j][y]=1\n",
        "    else :\n",
        "      d[j][y]=0\n",
        "\n",
        "    if d[x][j]==0 :\n",
        "      d[x][j]=1\n",
        "    else :\n",
        "      d[x][j]=0\n",
        "\n",
        "for i in range(1, 20) :\n",
        "  for j in range(1, 20) :\n",
        "    print(d[i][j], end=' ')\n",
        "  print()"
      ],
      "metadata": {
        "id": "JIj2RwhjfhLA"
      },
      "execution_count": null,
      "outputs": []
    },
    {
      "cell_type": "markdown",
      "source": [
        "<pre>\n",
        "리스트 컴프리헨션 2차원\n",
        "1. [ [0] * n for _ in range(m) ]\n",
        "  1번은 배열 안에 2차원 배열을 선언한다.\n",
        "\n",
        "2. [ [0] * n ] * m\n",
        "  2번은 배열 안에 배열들을 선언하는 게 아니라 각각 배열들을 선언한다.\n",
        "\n",
        "\n",
        "\n",
        "https://wikidocs.net/22805"
      ],
      "metadata": {
        "id": "ZpwvdkKqWoFG"
      }
    },
    {
      "cell_type": "code",
      "source": [
        "# 6097 : [기초-리스트] 설탕과자 뽑기\n",
        "h, w = map(int, input().split())\n",
        "m = [[0]*w for _ in range(h)] #2차원 만들 때 '리스트 컴프리헨션' 문법\n",
        "n = int(input())\n",
        "\n",
        "for i in range(n):\n",
        "  l,d,x,y = map(int, input().split())\n",
        "  for j in range(l):\n",
        "    # x, y에서 1씩 빼주는 이유는 입력 좌표 x, y가 0,0부터 시작하는 것이 아닌 1,1부터 시작하기 때문\n",
        "    if d == 0: # 가로\n",
        "      m[x-1][y-1+j] = 1 # d가 0일 때 (가로일 때)는 [x-1][y-1+j] 만큼의 위치를 1로 변환\n",
        "    else:\n",
        "      m[x-1+j][y-1] = 1 # d가 0일 때 (세로일 때)는 [x-1+j][y-1] 만큼의 위치를 1로 변환\n",
        "\n",
        "for i in range(h):\n",
        "  for j in range(w):\n",
        "    print(m[i][j], end = '')\n",
        "  print(end='\\n')"
      ],
      "metadata": {
        "colab": {
          "base_uri": "https://localhost:8080/"
        },
        "id": "CReyfNzJupez",
        "outputId": "58e1380e-33ba-4033-c12f-e6af293e6242"
      },
      "execution_count": null,
      "outputs": [
        {
          "output_type": "stream",
          "name": "stdout",
          "text": [
            "5 5\n",
            "3\n",
            "2 0 1 1 \n",
            "3 1 2 3\n",
            "4 1 2 5\n",
            "11000\n",
            "00101\n",
            "00101\n",
            "00101\n",
            "00001\n"
          ]
        }
      ]
    },
    {
      "cell_type": "code",
      "source": [
        "# 6098 : [기초-리스트] 성실한 개미\n",
        "array = []\n",
        "for i in range(10):\n",
        "  array.append(list(map(int, input().split())))\n",
        "\n",
        "x,y = 1,1 # (2,2)에서 출발\n",
        "\n",
        "while True:\n",
        "  # 현재 칸이 0이라면 9로 변환하고, 현재 칸이 2라면 9로 변환한 뒤 반복문 종료\n",
        "  if (array[x][y] == 0):\n",
        "    array[x][y] = 9\n",
        "  elif (array[x][y] == 2):\n",
        "    array[x][y] = 9\n",
        "    break\n",
        "\n",
        "  # 오른쪽과 아래가 모두 1이라면 반복문 종료\n",
        "  if (array[x][y+1] == 1 and array[x+1][y] == 1) or (x == 9 and y == 9):\n",
        "    break\n",
        "\n",
        "  # 오른쪽이 1이 아니라면 y를 증가(이동)시키고, 오른쪽이 1이고 아래쪽이 1이 아니라면 x를 증가\n",
        "  if (array[x][y+1] != 1):\n",
        "    y += 1\n",
        "  elif (array[x+1][y] != 1):\n",
        "    x += 1\n",
        "\n",
        "for i in range(10):\n",
        "  for j in range(10):\n",
        "      print(array[i][j], end = ' ')\n",
        "  print()"
      ],
      "metadata": {
        "id": "itHzdsmiVoNG"
      },
      "execution_count": null,
      "outputs": []
    },
    {
      "cell_type": "code",
      "source": [
        ""
      ],
      "metadata": {
        "id": "f9b0wk-gcgvd"
      },
      "execution_count": null,
      "outputs": []
    }
  ]
}